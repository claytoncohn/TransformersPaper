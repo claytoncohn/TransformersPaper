{
  "nbformat": 4,
  "nbformat_minor": 0,
  "metadata": {
    "colab": {
      "provenance": [],
      "collapsed_sections": [],
      "toc_visible": true,
      "machine_shape": "hm"
    },
    "kernelspec": {
      "name": "python3",
      "display_name": "Python 3"
    },
    "language_info": {
      "name": "python"
    },
    "accelerator": "GPU",
    "widgets": {
      "application/vnd.jupyter.widget-state+json": {
        "1456649f003f4e95a9b5a00badb4d131": {
          "model_module": "@jupyter-widgets/controls",
          "model_name": "HBoxModel",
          "model_module_version": "1.5.0",
          "state": {
            "_dom_classes": [],
            "_model_module": "@jupyter-widgets/controls",
            "_model_module_version": "1.5.0",
            "_model_name": "HBoxModel",
            "_view_count": null,
            "_view_module": "@jupyter-widgets/controls",
            "_view_module_version": "1.5.0",
            "_view_name": "HBoxView",
            "box_style": "",
            "children": [
              "IPY_MODEL_574df5d2c58c4fef852d91423c427593",
              "IPY_MODEL_ef177d2cfeb247689bc44d3ae11f3470",
              "IPY_MODEL_4d5f0ef8bdeb455da1fea72d3155ee2e"
            ],
            "layout": "IPY_MODEL_d9c062f5a3be410198883625fb70ba7d"
          }
        },
        "574df5d2c58c4fef852d91423c427593": {
          "model_module": "@jupyter-widgets/controls",
          "model_name": "HTMLModel",
          "model_module_version": "1.5.0",
          "state": {
            "_dom_classes": [],
            "_model_module": "@jupyter-widgets/controls",
            "_model_module_version": "1.5.0",
            "_model_name": "HTMLModel",
            "_view_count": null,
            "_view_module": "@jupyter-widgets/controls",
            "_view_module_version": "1.5.0",
            "_view_name": "HTMLView",
            "description": "",
            "description_tooltip": null,
            "layout": "IPY_MODEL_9378077879064e32931b115820bbb6d6",
            "placeholder": "​",
            "style": "IPY_MODEL_72cb38cd540a4c32b0d36f5f2080344a",
            "value": "Downloading: 100%"
          }
        },
        "ef177d2cfeb247689bc44d3ae11f3470": {
          "model_module": "@jupyter-widgets/controls",
          "model_name": "FloatProgressModel",
          "model_module_version": "1.5.0",
          "state": {
            "_dom_classes": [],
            "_model_module": "@jupyter-widgets/controls",
            "_model_module_version": "1.5.0",
            "_model_name": "FloatProgressModel",
            "_view_count": null,
            "_view_module": "@jupyter-widgets/controls",
            "_view_module_version": "1.5.0",
            "_view_name": "ProgressView",
            "bar_style": "success",
            "description": "",
            "description_tooltip": null,
            "layout": "IPY_MODEL_cb364310d5204617a1188dc08ad50d62",
            "max": 213450,
            "min": 0,
            "orientation": "horizontal",
            "style": "IPY_MODEL_7d61bbcbcf9843f4afde0db9532b9acc",
            "value": 213450
          }
        },
        "4d5f0ef8bdeb455da1fea72d3155ee2e": {
          "model_module": "@jupyter-widgets/controls",
          "model_name": "HTMLModel",
          "model_module_version": "1.5.0",
          "state": {
            "_dom_classes": [],
            "_model_module": "@jupyter-widgets/controls",
            "_model_module_version": "1.5.0",
            "_model_name": "HTMLModel",
            "_view_count": null,
            "_view_module": "@jupyter-widgets/controls",
            "_view_module_version": "1.5.0",
            "_view_name": "HTMLView",
            "description": "",
            "description_tooltip": null,
            "layout": "IPY_MODEL_d3f051fc2e6b4dcd9a68001def72c261",
            "placeholder": "​",
            "style": "IPY_MODEL_94582e22882f4ce29bfab296e767ba06",
            "value": " 213k/213k [00:00&lt;00:00, 2.90MB/s]"
          }
        },
        "d9c062f5a3be410198883625fb70ba7d": {
          "model_module": "@jupyter-widgets/base",
          "model_name": "LayoutModel",
          "model_module_version": "1.2.0",
          "state": {
            "_model_module": "@jupyter-widgets/base",
            "_model_module_version": "1.2.0",
            "_model_name": "LayoutModel",
            "_view_count": null,
            "_view_module": "@jupyter-widgets/base",
            "_view_module_version": "1.2.0",
            "_view_name": "LayoutView",
            "align_content": null,
            "align_items": null,
            "align_self": null,
            "border": null,
            "bottom": null,
            "display": null,
            "flex": null,
            "flex_flow": null,
            "grid_area": null,
            "grid_auto_columns": null,
            "grid_auto_flow": null,
            "grid_auto_rows": null,
            "grid_column": null,
            "grid_gap": null,
            "grid_row": null,
            "grid_template_areas": null,
            "grid_template_columns": null,
            "grid_template_rows": null,
            "height": null,
            "justify_content": null,
            "justify_items": null,
            "left": null,
            "margin": null,
            "max_height": null,
            "max_width": null,
            "min_height": null,
            "min_width": null,
            "object_fit": null,
            "object_position": null,
            "order": null,
            "overflow": null,
            "overflow_x": null,
            "overflow_y": null,
            "padding": null,
            "right": null,
            "top": null,
            "visibility": null,
            "width": null
          }
        },
        "9378077879064e32931b115820bbb6d6": {
          "model_module": "@jupyter-widgets/base",
          "model_name": "LayoutModel",
          "model_module_version": "1.2.0",
          "state": {
            "_model_module": "@jupyter-widgets/base",
            "_model_module_version": "1.2.0",
            "_model_name": "LayoutModel",
            "_view_count": null,
            "_view_module": "@jupyter-widgets/base",
            "_view_module_version": "1.2.0",
            "_view_name": "LayoutView",
            "align_content": null,
            "align_items": null,
            "align_self": null,
            "border": null,
            "bottom": null,
            "display": null,
            "flex": null,
            "flex_flow": null,
            "grid_area": null,
            "grid_auto_columns": null,
            "grid_auto_flow": null,
            "grid_auto_rows": null,
            "grid_column": null,
            "grid_gap": null,
            "grid_row": null,
            "grid_template_areas": null,
            "grid_template_columns": null,
            "grid_template_rows": null,
            "height": null,
            "justify_content": null,
            "justify_items": null,
            "left": null,
            "margin": null,
            "max_height": null,
            "max_width": null,
            "min_height": null,
            "min_width": null,
            "object_fit": null,
            "object_position": null,
            "order": null,
            "overflow": null,
            "overflow_x": null,
            "overflow_y": null,
            "padding": null,
            "right": null,
            "top": null,
            "visibility": null,
            "width": null
          }
        },
        "72cb38cd540a4c32b0d36f5f2080344a": {
          "model_module": "@jupyter-widgets/controls",
          "model_name": "DescriptionStyleModel",
          "model_module_version": "1.5.0",
          "state": {
            "_model_module": "@jupyter-widgets/controls",
            "_model_module_version": "1.5.0",
            "_model_name": "DescriptionStyleModel",
            "_view_count": null,
            "_view_module": "@jupyter-widgets/base",
            "_view_module_version": "1.2.0",
            "_view_name": "StyleView",
            "description_width": ""
          }
        },
        "cb364310d5204617a1188dc08ad50d62": {
          "model_module": "@jupyter-widgets/base",
          "model_name": "LayoutModel",
          "model_module_version": "1.2.0",
          "state": {
            "_model_module": "@jupyter-widgets/base",
            "_model_module_version": "1.2.0",
            "_model_name": "LayoutModel",
            "_view_count": null,
            "_view_module": "@jupyter-widgets/base",
            "_view_module_version": "1.2.0",
            "_view_name": "LayoutView",
            "align_content": null,
            "align_items": null,
            "align_self": null,
            "border": null,
            "bottom": null,
            "display": null,
            "flex": null,
            "flex_flow": null,
            "grid_area": null,
            "grid_auto_columns": null,
            "grid_auto_flow": null,
            "grid_auto_rows": null,
            "grid_column": null,
            "grid_gap": null,
            "grid_row": null,
            "grid_template_areas": null,
            "grid_template_columns": null,
            "grid_template_rows": null,
            "height": null,
            "justify_content": null,
            "justify_items": null,
            "left": null,
            "margin": null,
            "max_height": null,
            "max_width": null,
            "min_height": null,
            "min_width": null,
            "object_fit": null,
            "object_position": null,
            "order": null,
            "overflow": null,
            "overflow_x": null,
            "overflow_y": null,
            "padding": null,
            "right": null,
            "top": null,
            "visibility": null,
            "width": null
          }
        },
        "7d61bbcbcf9843f4afde0db9532b9acc": {
          "model_module": "@jupyter-widgets/controls",
          "model_name": "ProgressStyleModel",
          "model_module_version": "1.5.0",
          "state": {
            "_model_module": "@jupyter-widgets/controls",
            "_model_module_version": "1.5.0",
            "_model_name": "ProgressStyleModel",
            "_view_count": null,
            "_view_module": "@jupyter-widgets/base",
            "_view_module_version": "1.2.0",
            "_view_name": "StyleView",
            "bar_color": null,
            "description_width": ""
          }
        },
        "d3f051fc2e6b4dcd9a68001def72c261": {
          "model_module": "@jupyter-widgets/base",
          "model_name": "LayoutModel",
          "model_module_version": "1.2.0",
          "state": {
            "_model_module": "@jupyter-widgets/base",
            "_model_module_version": "1.2.0",
            "_model_name": "LayoutModel",
            "_view_count": null,
            "_view_module": "@jupyter-widgets/base",
            "_view_module_version": "1.2.0",
            "_view_name": "LayoutView",
            "align_content": null,
            "align_items": null,
            "align_self": null,
            "border": null,
            "bottom": null,
            "display": null,
            "flex": null,
            "flex_flow": null,
            "grid_area": null,
            "grid_auto_columns": null,
            "grid_auto_flow": null,
            "grid_auto_rows": null,
            "grid_column": null,
            "grid_gap": null,
            "grid_row": null,
            "grid_template_areas": null,
            "grid_template_columns": null,
            "grid_template_rows": null,
            "height": null,
            "justify_content": null,
            "justify_items": null,
            "left": null,
            "margin": null,
            "max_height": null,
            "max_width": null,
            "min_height": null,
            "min_width": null,
            "object_fit": null,
            "object_position": null,
            "order": null,
            "overflow": null,
            "overflow_x": null,
            "overflow_y": null,
            "padding": null,
            "right": null,
            "top": null,
            "visibility": null,
            "width": null
          }
        },
        "94582e22882f4ce29bfab296e767ba06": {
          "model_module": "@jupyter-widgets/controls",
          "model_name": "DescriptionStyleModel",
          "model_module_version": "1.5.0",
          "state": {
            "_model_module": "@jupyter-widgets/controls",
            "_model_module_version": "1.5.0",
            "_model_name": "DescriptionStyleModel",
            "_view_count": null,
            "_view_module": "@jupyter-widgets/base",
            "_view_module_version": "1.2.0",
            "_view_name": "StyleView",
            "description_width": ""
          }
        },
        "a879675e99224e9ab4a28e65af07992d": {
          "model_module": "@jupyter-widgets/controls",
          "model_name": "HBoxModel",
          "model_module_version": "1.5.0",
          "state": {
            "_dom_classes": [],
            "_model_module": "@jupyter-widgets/controls",
            "_model_module_version": "1.5.0",
            "_model_name": "HBoxModel",
            "_view_count": null,
            "_view_module": "@jupyter-widgets/controls",
            "_view_module_version": "1.5.0",
            "_view_name": "HBoxView",
            "box_style": "",
            "children": [
              "IPY_MODEL_97f913a60241404e9c618e3d189ab72c",
              "IPY_MODEL_becb14a4b5804c839de853ca8423acf0",
              "IPY_MODEL_d5aacb8a2a3c4f22a6e787b5b06f8d68"
            ],
            "layout": "IPY_MODEL_c0b16fde58384f5d9873b92fb6cb1591"
          }
        },
        "97f913a60241404e9c618e3d189ab72c": {
          "model_module": "@jupyter-widgets/controls",
          "model_name": "HTMLModel",
          "model_module_version": "1.5.0",
          "state": {
            "_dom_classes": [],
            "_model_module": "@jupyter-widgets/controls",
            "_model_module_version": "1.5.0",
            "_model_name": "HTMLModel",
            "_view_count": null,
            "_view_module": "@jupyter-widgets/controls",
            "_view_module_version": "1.5.0",
            "_view_name": "HTMLView",
            "description": "",
            "description_tooltip": null,
            "layout": "IPY_MODEL_b72be6370a1b4a53a039f1ec78792550",
            "placeholder": "​",
            "style": "IPY_MODEL_8b599bd09a6c4b6e86783c2351b19a5c",
            "value": "Downloading: 100%"
          }
        },
        "becb14a4b5804c839de853ca8423acf0": {
          "model_module": "@jupyter-widgets/controls",
          "model_name": "FloatProgressModel",
          "model_module_version": "1.5.0",
          "state": {
            "_dom_classes": [],
            "_model_module": "@jupyter-widgets/controls",
            "_model_module_version": "1.5.0",
            "_model_name": "FloatProgressModel",
            "_view_count": null,
            "_view_module": "@jupyter-widgets/controls",
            "_view_module_version": "1.5.0",
            "_view_name": "ProgressView",
            "bar_style": "success",
            "description": "",
            "description_tooltip": null,
            "layout": "IPY_MODEL_85e60f7d710f405888bc271392cfa8a2",
            "max": 29,
            "min": 0,
            "orientation": "horizontal",
            "style": "IPY_MODEL_e8ed72b935a5407aa5df9c5dc7c9bc7c",
            "value": 29
          }
        },
        "d5aacb8a2a3c4f22a6e787b5b06f8d68": {
          "model_module": "@jupyter-widgets/controls",
          "model_name": "HTMLModel",
          "model_module_version": "1.5.0",
          "state": {
            "_dom_classes": [],
            "_model_module": "@jupyter-widgets/controls",
            "_model_module_version": "1.5.0",
            "_model_name": "HTMLModel",
            "_view_count": null,
            "_view_module": "@jupyter-widgets/controls",
            "_view_module_version": "1.5.0",
            "_view_name": "HTMLView",
            "description": "",
            "description_tooltip": null,
            "layout": "IPY_MODEL_0c73280206094b2f9ee2c8136c85cdaa",
            "placeholder": "​",
            "style": "IPY_MODEL_b639c9e0b9374ff486a88c1d6c665001",
            "value": " 29.0/29.0 [00:00&lt;00:00, 1.04kB/s]"
          }
        },
        "c0b16fde58384f5d9873b92fb6cb1591": {
          "model_module": "@jupyter-widgets/base",
          "model_name": "LayoutModel",
          "model_module_version": "1.2.0",
          "state": {
            "_model_module": "@jupyter-widgets/base",
            "_model_module_version": "1.2.0",
            "_model_name": "LayoutModel",
            "_view_count": null,
            "_view_module": "@jupyter-widgets/base",
            "_view_module_version": "1.2.0",
            "_view_name": "LayoutView",
            "align_content": null,
            "align_items": null,
            "align_self": null,
            "border": null,
            "bottom": null,
            "display": null,
            "flex": null,
            "flex_flow": null,
            "grid_area": null,
            "grid_auto_columns": null,
            "grid_auto_flow": null,
            "grid_auto_rows": null,
            "grid_column": null,
            "grid_gap": null,
            "grid_row": null,
            "grid_template_areas": null,
            "grid_template_columns": null,
            "grid_template_rows": null,
            "height": null,
            "justify_content": null,
            "justify_items": null,
            "left": null,
            "margin": null,
            "max_height": null,
            "max_width": null,
            "min_height": null,
            "min_width": null,
            "object_fit": null,
            "object_position": null,
            "order": null,
            "overflow": null,
            "overflow_x": null,
            "overflow_y": null,
            "padding": null,
            "right": null,
            "top": null,
            "visibility": null,
            "width": null
          }
        },
        "b72be6370a1b4a53a039f1ec78792550": {
          "model_module": "@jupyter-widgets/base",
          "model_name": "LayoutModel",
          "model_module_version": "1.2.0",
          "state": {
            "_model_module": "@jupyter-widgets/base",
            "_model_module_version": "1.2.0",
            "_model_name": "LayoutModel",
            "_view_count": null,
            "_view_module": "@jupyter-widgets/base",
            "_view_module_version": "1.2.0",
            "_view_name": "LayoutView",
            "align_content": null,
            "align_items": null,
            "align_self": null,
            "border": null,
            "bottom": null,
            "display": null,
            "flex": null,
            "flex_flow": null,
            "grid_area": null,
            "grid_auto_columns": null,
            "grid_auto_flow": null,
            "grid_auto_rows": null,
            "grid_column": null,
            "grid_gap": null,
            "grid_row": null,
            "grid_template_areas": null,
            "grid_template_columns": null,
            "grid_template_rows": null,
            "height": null,
            "justify_content": null,
            "justify_items": null,
            "left": null,
            "margin": null,
            "max_height": null,
            "max_width": null,
            "min_height": null,
            "min_width": null,
            "object_fit": null,
            "object_position": null,
            "order": null,
            "overflow": null,
            "overflow_x": null,
            "overflow_y": null,
            "padding": null,
            "right": null,
            "top": null,
            "visibility": null,
            "width": null
          }
        },
        "8b599bd09a6c4b6e86783c2351b19a5c": {
          "model_module": "@jupyter-widgets/controls",
          "model_name": "DescriptionStyleModel",
          "model_module_version": "1.5.0",
          "state": {
            "_model_module": "@jupyter-widgets/controls",
            "_model_module_version": "1.5.0",
            "_model_name": "DescriptionStyleModel",
            "_view_count": null,
            "_view_module": "@jupyter-widgets/base",
            "_view_module_version": "1.2.0",
            "_view_name": "StyleView",
            "description_width": ""
          }
        },
        "85e60f7d710f405888bc271392cfa8a2": {
          "model_module": "@jupyter-widgets/base",
          "model_name": "LayoutModel",
          "model_module_version": "1.2.0",
          "state": {
            "_model_module": "@jupyter-widgets/base",
            "_model_module_version": "1.2.0",
            "_model_name": "LayoutModel",
            "_view_count": null,
            "_view_module": "@jupyter-widgets/base",
            "_view_module_version": "1.2.0",
            "_view_name": "LayoutView",
            "align_content": null,
            "align_items": null,
            "align_self": null,
            "border": null,
            "bottom": null,
            "display": null,
            "flex": null,
            "flex_flow": null,
            "grid_area": null,
            "grid_auto_columns": null,
            "grid_auto_flow": null,
            "grid_auto_rows": null,
            "grid_column": null,
            "grid_gap": null,
            "grid_row": null,
            "grid_template_areas": null,
            "grid_template_columns": null,
            "grid_template_rows": null,
            "height": null,
            "justify_content": null,
            "justify_items": null,
            "left": null,
            "margin": null,
            "max_height": null,
            "max_width": null,
            "min_height": null,
            "min_width": null,
            "object_fit": null,
            "object_position": null,
            "order": null,
            "overflow": null,
            "overflow_x": null,
            "overflow_y": null,
            "padding": null,
            "right": null,
            "top": null,
            "visibility": null,
            "width": null
          }
        },
        "e8ed72b935a5407aa5df9c5dc7c9bc7c": {
          "model_module": "@jupyter-widgets/controls",
          "model_name": "ProgressStyleModel",
          "model_module_version": "1.5.0",
          "state": {
            "_model_module": "@jupyter-widgets/controls",
            "_model_module_version": "1.5.0",
            "_model_name": "ProgressStyleModel",
            "_view_count": null,
            "_view_module": "@jupyter-widgets/base",
            "_view_module_version": "1.2.0",
            "_view_name": "StyleView",
            "bar_color": null,
            "description_width": ""
          }
        },
        "0c73280206094b2f9ee2c8136c85cdaa": {
          "model_module": "@jupyter-widgets/base",
          "model_name": "LayoutModel",
          "model_module_version": "1.2.0",
          "state": {
            "_model_module": "@jupyter-widgets/base",
            "_model_module_version": "1.2.0",
            "_model_name": "LayoutModel",
            "_view_count": null,
            "_view_module": "@jupyter-widgets/base",
            "_view_module_version": "1.2.0",
            "_view_name": "LayoutView",
            "align_content": null,
            "align_items": null,
            "align_self": null,
            "border": null,
            "bottom": null,
            "display": null,
            "flex": null,
            "flex_flow": null,
            "grid_area": null,
            "grid_auto_columns": null,
            "grid_auto_flow": null,
            "grid_auto_rows": null,
            "grid_column": null,
            "grid_gap": null,
            "grid_row": null,
            "grid_template_areas": null,
            "grid_template_columns": null,
            "grid_template_rows": null,
            "height": null,
            "justify_content": null,
            "justify_items": null,
            "left": null,
            "margin": null,
            "max_height": null,
            "max_width": null,
            "min_height": null,
            "min_width": null,
            "object_fit": null,
            "object_position": null,
            "order": null,
            "overflow": null,
            "overflow_x": null,
            "overflow_y": null,
            "padding": null,
            "right": null,
            "top": null,
            "visibility": null,
            "width": null
          }
        },
        "b639c9e0b9374ff486a88c1d6c665001": {
          "model_module": "@jupyter-widgets/controls",
          "model_name": "DescriptionStyleModel",
          "model_module_version": "1.5.0",
          "state": {
            "_model_module": "@jupyter-widgets/controls",
            "_model_module_version": "1.5.0",
            "_model_name": "DescriptionStyleModel",
            "_view_count": null,
            "_view_module": "@jupyter-widgets/base",
            "_view_module_version": "1.2.0",
            "_view_name": "StyleView",
            "description_width": ""
          }
        },
        "7f643ed984204a83b1bdb8db9a48356e": {
          "model_module": "@jupyter-widgets/controls",
          "model_name": "HBoxModel",
          "model_module_version": "1.5.0",
          "state": {
            "_dom_classes": [],
            "_model_module": "@jupyter-widgets/controls",
            "_model_module_version": "1.5.0",
            "_model_name": "HBoxModel",
            "_view_count": null,
            "_view_module": "@jupyter-widgets/controls",
            "_view_module_version": "1.5.0",
            "_view_name": "HBoxView",
            "box_style": "",
            "children": [
              "IPY_MODEL_556810bd8ea74c7380ce02440a505217",
              "IPY_MODEL_0b820e379d58483995141b9ad986b0f9",
              "IPY_MODEL_7989bc89cd6f4471acaeb12d3ac12c5e"
            ],
            "layout": "IPY_MODEL_4da18e3305d4481596da70cd8ef6b1fa"
          }
        },
        "556810bd8ea74c7380ce02440a505217": {
          "model_module": "@jupyter-widgets/controls",
          "model_name": "HTMLModel",
          "model_module_version": "1.5.0",
          "state": {
            "_dom_classes": [],
            "_model_module": "@jupyter-widgets/controls",
            "_model_module_version": "1.5.0",
            "_model_name": "HTMLModel",
            "_view_count": null,
            "_view_module": "@jupyter-widgets/controls",
            "_view_module_version": "1.5.0",
            "_view_name": "HTMLView",
            "description": "",
            "description_tooltip": null,
            "layout": "IPY_MODEL_2f53a67b31f84d58980854c0d42dd366",
            "placeholder": "​",
            "style": "IPY_MODEL_d46ff23ae62c4bca9a4b8c9d58350a39",
            "value": "Downloading: 100%"
          }
        },
        "0b820e379d58483995141b9ad986b0f9": {
          "model_module": "@jupyter-widgets/controls",
          "model_name": "FloatProgressModel",
          "model_module_version": "1.5.0",
          "state": {
            "_dom_classes": [],
            "_model_module": "@jupyter-widgets/controls",
            "_model_module_version": "1.5.0",
            "_model_name": "FloatProgressModel",
            "_view_count": null,
            "_view_module": "@jupyter-widgets/controls",
            "_view_module_version": "1.5.0",
            "_view_name": "ProgressView",
            "bar_style": "success",
            "description": "",
            "description_tooltip": null,
            "layout": "IPY_MODEL_e39048bdeda64d88b0593b4713b34bff",
            "max": 570,
            "min": 0,
            "orientation": "horizontal",
            "style": "IPY_MODEL_9f49f76b626e4d90ac9da2d1dd740a65",
            "value": 570
          }
        },
        "7989bc89cd6f4471acaeb12d3ac12c5e": {
          "model_module": "@jupyter-widgets/controls",
          "model_name": "HTMLModel",
          "model_module_version": "1.5.0",
          "state": {
            "_dom_classes": [],
            "_model_module": "@jupyter-widgets/controls",
            "_model_module_version": "1.5.0",
            "_model_name": "HTMLModel",
            "_view_count": null,
            "_view_module": "@jupyter-widgets/controls",
            "_view_module_version": "1.5.0",
            "_view_name": "HTMLView",
            "description": "",
            "description_tooltip": null,
            "layout": "IPY_MODEL_1d06b215a2294e1883891bae9194dd72",
            "placeholder": "​",
            "style": "IPY_MODEL_df861cbc7695476db03c35ced239c138",
            "value": " 570/570 [00:00&lt;00:00, 23.1kB/s]"
          }
        },
        "4da18e3305d4481596da70cd8ef6b1fa": {
          "model_module": "@jupyter-widgets/base",
          "model_name": "LayoutModel",
          "model_module_version": "1.2.0",
          "state": {
            "_model_module": "@jupyter-widgets/base",
            "_model_module_version": "1.2.0",
            "_model_name": "LayoutModel",
            "_view_count": null,
            "_view_module": "@jupyter-widgets/base",
            "_view_module_version": "1.2.0",
            "_view_name": "LayoutView",
            "align_content": null,
            "align_items": null,
            "align_self": null,
            "border": null,
            "bottom": null,
            "display": null,
            "flex": null,
            "flex_flow": null,
            "grid_area": null,
            "grid_auto_columns": null,
            "grid_auto_flow": null,
            "grid_auto_rows": null,
            "grid_column": null,
            "grid_gap": null,
            "grid_row": null,
            "grid_template_areas": null,
            "grid_template_columns": null,
            "grid_template_rows": null,
            "height": null,
            "justify_content": null,
            "justify_items": null,
            "left": null,
            "margin": null,
            "max_height": null,
            "max_width": null,
            "min_height": null,
            "min_width": null,
            "object_fit": null,
            "object_position": null,
            "order": null,
            "overflow": null,
            "overflow_x": null,
            "overflow_y": null,
            "padding": null,
            "right": null,
            "top": null,
            "visibility": null,
            "width": null
          }
        },
        "2f53a67b31f84d58980854c0d42dd366": {
          "model_module": "@jupyter-widgets/base",
          "model_name": "LayoutModel",
          "model_module_version": "1.2.0",
          "state": {
            "_model_module": "@jupyter-widgets/base",
            "_model_module_version": "1.2.0",
            "_model_name": "LayoutModel",
            "_view_count": null,
            "_view_module": "@jupyter-widgets/base",
            "_view_module_version": "1.2.0",
            "_view_name": "LayoutView",
            "align_content": null,
            "align_items": null,
            "align_self": null,
            "border": null,
            "bottom": null,
            "display": null,
            "flex": null,
            "flex_flow": null,
            "grid_area": null,
            "grid_auto_columns": null,
            "grid_auto_flow": null,
            "grid_auto_rows": null,
            "grid_column": null,
            "grid_gap": null,
            "grid_row": null,
            "grid_template_areas": null,
            "grid_template_columns": null,
            "grid_template_rows": null,
            "height": null,
            "justify_content": null,
            "justify_items": null,
            "left": null,
            "margin": null,
            "max_height": null,
            "max_width": null,
            "min_height": null,
            "min_width": null,
            "object_fit": null,
            "object_position": null,
            "order": null,
            "overflow": null,
            "overflow_x": null,
            "overflow_y": null,
            "padding": null,
            "right": null,
            "top": null,
            "visibility": null,
            "width": null
          }
        },
        "d46ff23ae62c4bca9a4b8c9d58350a39": {
          "model_module": "@jupyter-widgets/controls",
          "model_name": "DescriptionStyleModel",
          "model_module_version": "1.5.0",
          "state": {
            "_model_module": "@jupyter-widgets/controls",
            "_model_module_version": "1.5.0",
            "_model_name": "DescriptionStyleModel",
            "_view_count": null,
            "_view_module": "@jupyter-widgets/base",
            "_view_module_version": "1.2.0",
            "_view_name": "StyleView",
            "description_width": ""
          }
        },
        "e39048bdeda64d88b0593b4713b34bff": {
          "model_module": "@jupyter-widgets/base",
          "model_name": "LayoutModel",
          "model_module_version": "1.2.0",
          "state": {
            "_model_module": "@jupyter-widgets/base",
            "_model_module_version": "1.2.0",
            "_model_name": "LayoutModel",
            "_view_count": null,
            "_view_module": "@jupyter-widgets/base",
            "_view_module_version": "1.2.0",
            "_view_name": "LayoutView",
            "align_content": null,
            "align_items": null,
            "align_self": null,
            "border": null,
            "bottom": null,
            "display": null,
            "flex": null,
            "flex_flow": null,
            "grid_area": null,
            "grid_auto_columns": null,
            "grid_auto_flow": null,
            "grid_auto_rows": null,
            "grid_column": null,
            "grid_gap": null,
            "grid_row": null,
            "grid_template_areas": null,
            "grid_template_columns": null,
            "grid_template_rows": null,
            "height": null,
            "justify_content": null,
            "justify_items": null,
            "left": null,
            "margin": null,
            "max_height": null,
            "max_width": null,
            "min_height": null,
            "min_width": null,
            "object_fit": null,
            "object_position": null,
            "order": null,
            "overflow": null,
            "overflow_x": null,
            "overflow_y": null,
            "padding": null,
            "right": null,
            "top": null,
            "visibility": null,
            "width": null
          }
        },
        "9f49f76b626e4d90ac9da2d1dd740a65": {
          "model_module": "@jupyter-widgets/controls",
          "model_name": "ProgressStyleModel",
          "model_module_version": "1.5.0",
          "state": {
            "_model_module": "@jupyter-widgets/controls",
            "_model_module_version": "1.5.0",
            "_model_name": "ProgressStyleModel",
            "_view_count": null,
            "_view_module": "@jupyter-widgets/base",
            "_view_module_version": "1.2.0",
            "_view_name": "StyleView",
            "bar_color": null,
            "description_width": ""
          }
        },
        "1d06b215a2294e1883891bae9194dd72": {
          "model_module": "@jupyter-widgets/base",
          "model_name": "LayoutModel",
          "model_module_version": "1.2.0",
          "state": {
            "_model_module": "@jupyter-widgets/base",
            "_model_module_version": "1.2.0",
            "_model_name": "LayoutModel",
            "_view_count": null,
            "_view_module": "@jupyter-widgets/base",
            "_view_module_version": "1.2.0",
            "_view_name": "LayoutView",
            "align_content": null,
            "align_items": null,
            "align_self": null,
            "border": null,
            "bottom": null,
            "display": null,
            "flex": null,
            "flex_flow": null,
            "grid_area": null,
            "grid_auto_columns": null,
            "grid_auto_flow": null,
            "grid_auto_rows": null,
            "grid_column": null,
            "grid_gap": null,
            "grid_row": null,
            "grid_template_areas": null,
            "grid_template_columns": null,
            "grid_template_rows": null,
            "height": null,
            "justify_content": null,
            "justify_items": null,
            "left": null,
            "margin": null,
            "max_height": null,
            "max_width": null,
            "min_height": null,
            "min_width": null,
            "object_fit": null,
            "object_position": null,
            "order": null,
            "overflow": null,
            "overflow_x": null,
            "overflow_y": null,
            "padding": null,
            "right": null,
            "top": null,
            "visibility": null,
            "width": null
          }
        },
        "df861cbc7695476db03c35ced239c138": {
          "model_module": "@jupyter-widgets/controls",
          "model_name": "DescriptionStyleModel",
          "model_module_version": "1.5.0",
          "state": {
            "_model_module": "@jupyter-widgets/controls",
            "_model_module_version": "1.5.0",
            "_model_name": "DescriptionStyleModel",
            "_view_count": null,
            "_view_module": "@jupyter-widgets/base",
            "_view_module_version": "1.2.0",
            "_view_name": "StyleView",
            "description_width": ""
          }
        },
        "a4c3491b2dff4f6bbac039f381f58531": {
          "model_module": "@jupyter-widgets/controls",
          "model_name": "HBoxModel",
          "model_module_version": "1.5.0",
          "state": {
            "_dom_classes": [],
            "_model_module": "@jupyter-widgets/controls",
            "_model_module_version": "1.5.0",
            "_model_name": "HBoxModel",
            "_view_count": null,
            "_view_module": "@jupyter-widgets/controls",
            "_view_module_version": "1.5.0",
            "_view_name": "HBoxView",
            "box_style": "",
            "children": [
              "IPY_MODEL_bd4758ceba7d4eb590d6aa7553efa4a5",
              "IPY_MODEL_6b0d5fe2e6494adda189ee655cb1f860",
              "IPY_MODEL_f92701289ab1408683b1426c3a0c806f"
            ],
            "layout": "IPY_MODEL_b6d98ff36d104d66914600365e0f4951"
          }
        },
        "bd4758ceba7d4eb590d6aa7553efa4a5": {
          "model_module": "@jupyter-widgets/controls",
          "model_name": "HTMLModel",
          "model_module_version": "1.5.0",
          "state": {
            "_dom_classes": [],
            "_model_module": "@jupyter-widgets/controls",
            "_model_module_version": "1.5.0",
            "_model_name": "HTMLModel",
            "_view_count": null,
            "_view_module": "@jupyter-widgets/controls",
            "_view_module_version": "1.5.0",
            "_view_name": "HTMLView",
            "description": "",
            "description_tooltip": null,
            "layout": "IPY_MODEL_67a265f8d259404ea9d5ec4462dbbdbf",
            "placeholder": "​",
            "style": "IPY_MODEL_86c8c46b67944128b5f3f491d636e14b",
            "value": "Downloading: 100%"
          }
        },
        "6b0d5fe2e6494adda189ee655cb1f860": {
          "model_module": "@jupyter-widgets/controls",
          "model_name": "FloatProgressModel",
          "model_module_version": "1.5.0",
          "state": {
            "_dom_classes": [],
            "_model_module": "@jupyter-widgets/controls",
            "_model_module_version": "1.5.0",
            "_model_name": "FloatProgressModel",
            "_view_count": null,
            "_view_module": "@jupyter-widgets/controls",
            "_view_module_version": "1.5.0",
            "_view_name": "ProgressView",
            "bar_style": "success",
            "description": "",
            "description_tooltip": null,
            "layout": "IPY_MODEL_3f53ae7fd6984e99b5d670e67abc5364",
            "max": 435779157,
            "min": 0,
            "orientation": "horizontal",
            "style": "IPY_MODEL_3640b222d7fd488e9c5891576ff91d9c",
            "value": 435779157
          }
        },
        "f92701289ab1408683b1426c3a0c806f": {
          "model_module": "@jupyter-widgets/controls",
          "model_name": "HTMLModel",
          "model_module_version": "1.5.0",
          "state": {
            "_dom_classes": [],
            "_model_module": "@jupyter-widgets/controls",
            "_model_module_version": "1.5.0",
            "_model_name": "HTMLModel",
            "_view_count": null,
            "_view_module": "@jupyter-widgets/controls",
            "_view_module_version": "1.5.0",
            "_view_name": "HTMLView",
            "description": "",
            "description_tooltip": null,
            "layout": "IPY_MODEL_47378dae06e34e8ea257b890a02a2325",
            "placeholder": "​",
            "style": "IPY_MODEL_f54e202ffdc746feba75c78e59400ccd",
            "value": " 436M/436M [00:08&lt;00:00, 42.8MB/s]"
          }
        },
        "b6d98ff36d104d66914600365e0f4951": {
          "model_module": "@jupyter-widgets/base",
          "model_name": "LayoutModel",
          "model_module_version": "1.2.0",
          "state": {
            "_model_module": "@jupyter-widgets/base",
            "_model_module_version": "1.2.0",
            "_model_name": "LayoutModel",
            "_view_count": null,
            "_view_module": "@jupyter-widgets/base",
            "_view_module_version": "1.2.0",
            "_view_name": "LayoutView",
            "align_content": null,
            "align_items": null,
            "align_self": null,
            "border": null,
            "bottom": null,
            "display": null,
            "flex": null,
            "flex_flow": null,
            "grid_area": null,
            "grid_auto_columns": null,
            "grid_auto_flow": null,
            "grid_auto_rows": null,
            "grid_column": null,
            "grid_gap": null,
            "grid_row": null,
            "grid_template_areas": null,
            "grid_template_columns": null,
            "grid_template_rows": null,
            "height": null,
            "justify_content": null,
            "justify_items": null,
            "left": null,
            "margin": null,
            "max_height": null,
            "max_width": null,
            "min_height": null,
            "min_width": null,
            "object_fit": null,
            "object_position": null,
            "order": null,
            "overflow": null,
            "overflow_x": null,
            "overflow_y": null,
            "padding": null,
            "right": null,
            "top": null,
            "visibility": null,
            "width": null
          }
        },
        "67a265f8d259404ea9d5ec4462dbbdbf": {
          "model_module": "@jupyter-widgets/base",
          "model_name": "LayoutModel",
          "model_module_version": "1.2.0",
          "state": {
            "_model_module": "@jupyter-widgets/base",
            "_model_module_version": "1.2.0",
            "_model_name": "LayoutModel",
            "_view_count": null,
            "_view_module": "@jupyter-widgets/base",
            "_view_module_version": "1.2.0",
            "_view_name": "LayoutView",
            "align_content": null,
            "align_items": null,
            "align_self": null,
            "border": null,
            "bottom": null,
            "display": null,
            "flex": null,
            "flex_flow": null,
            "grid_area": null,
            "grid_auto_columns": null,
            "grid_auto_flow": null,
            "grid_auto_rows": null,
            "grid_column": null,
            "grid_gap": null,
            "grid_row": null,
            "grid_template_areas": null,
            "grid_template_columns": null,
            "grid_template_rows": null,
            "height": null,
            "justify_content": null,
            "justify_items": null,
            "left": null,
            "margin": null,
            "max_height": null,
            "max_width": null,
            "min_height": null,
            "min_width": null,
            "object_fit": null,
            "object_position": null,
            "order": null,
            "overflow": null,
            "overflow_x": null,
            "overflow_y": null,
            "padding": null,
            "right": null,
            "top": null,
            "visibility": null,
            "width": null
          }
        },
        "86c8c46b67944128b5f3f491d636e14b": {
          "model_module": "@jupyter-widgets/controls",
          "model_name": "DescriptionStyleModel",
          "model_module_version": "1.5.0",
          "state": {
            "_model_module": "@jupyter-widgets/controls",
            "_model_module_version": "1.5.0",
            "_model_name": "DescriptionStyleModel",
            "_view_count": null,
            "_view_module": "@jupyter-widgets/base",
            "_view_module_version": "1.2.0",
            "_view_name": "StyleView",
            "description_width": ""
          }
        },
        "3f53ae7fd6984e99b5d670e67abc5364": {
          "model_module": "@jupyter-widgets/base",
          "model_name": "LayoutModel",
          "model_module_version": "1.2.0",
          "state": {
            "_model_module": "@jupyter-widgets/base",
            "_model_module_version": "1.2.0",
            "_model_name": "LayoutModel",
            "_view_count": null,
            "_view_module": "@jupyter-widgets/base",
            "_view_module_version": "1.2.0",
            "_view_name": "LayoutView",
            "align_content": null,
            "align_items": null,
            "align_self": null,
            "border": null,
            "bottom": null,
            "display": null,
            "flex": null,
            "flex_flow": null,
            "grid_area": null,
            "grid_auto_columns": null,
            "grid_auto_flow": null,
            "grid_auto_rows": null,
            "grid_column": null,
            "grid_gap": null,
            "grid_row": null,
            "grid_template_areas": null,
            "grid_template_columns": null,
            "grid_template_rows": null,
            "height": null,
            "justify_content": null,
            "justify_items": null,
            "left": null,
            "margin": null,
            "max_height": null,
            "max_width": null,
            "min_height": null,
            "min_width": null,
            "object_fit": null,
            "object_position": null,
            "order": null,
            "overflow": null,
            "overflow_x": null,
            "overflow_y": null,
            "padding": null,
            "right": null,
            "top": null,
            "visibility": null,
            "width": null
          }
        },
        "3640b222d7fd488e9c5891576ff91d9c": {
          "model_module": "@jupyter-widgets/controls",
          "model_name": "ProgressStyleModel",
          "model_module_version": "1.5.0",
          "state": {
            "_model_module": "@jupyter-widgets/controls",
            "_model_module_version": "1.5.0",
            "_model_name": "ProgressStyleModel",
            "_view_count": null,
            "_view_module": "@jupyter-widgets/base",
            "_view_module_version": "1.2.0",
            "_view_name": "StyleView",
            "bar_color": null,
            "description_width": ""
          }
        },
        "47378dae06e34e8ea257b890a02a2325": {
          "model_module": "@jupyter-widgets/base",
          "model_name": "LayoutModel",
          "model_module_version": "1.2.0",
          "state": {
            "_model_module": "@jupyter-widgets/base",
            "_model_module_version": "1.2.0",
            "_model_name": "LayoutModel",
            "_view_count": null,
            "_view_module": "@jupyter-widgets/base",
            "_view_module_version": "1.2.0",
            "_view_name": "LayoutView",
            "align_content": null,
            "align_items": null,
            "align_self": null,
            "border": null,
            "bottom": null,
            "display": null,
            "flex": null,
            "flex_flow": null,
            "grid_area": null,
            "grid_auto_columns": null,
            "grid_auto_flow": null,
            "grid_auto_rows": null,
            "grid_column": null,
            "grid_gap": null,
            "grid_row": null,
            "grid_template_areas": null,
            "grid_template_columns": null,
            "grid_template_rows": null,
            "height": null,
            "justify_content": null,
            "justify_items": null,
            "left": null,
            "margin": null,
            "max_height": null,
            "max_width": null,
            "min_height": null,
            "min_width": null,
            "object_fit": null,
            "object_position": null,
            "order": null,
            "overflow": null,
            "overflow_x": null,
            "overflow_y": null,
            "padding": null,
            "right": null,
            "top": null,
            "visibility": null,
            "width": null
          }
        },
        "f54e202ffdc746feba75c78e59400ccd": {
          "model_module": "@jupyter-widgets/controls",
          "model_name": "DescriptionStyleModel",
          "model_module_version": "1.5.0",
          "state": {
            "_model_module": "@jupyter-widgets/controls",
            "_model_module_version": "1.5.0",
            "_model_name": "DescriptionStyleModel",
            "_view_count": null,
            "_view_module": "@jupyter-widgets/base",
            "_view_module_version": "1.2.0",
            "_view_name": "StyleView",
            "description_width": ""
          }
        }
      }
    }
  },
  "cells": [
    {
      "cell_type": "markdown",
      "metadata": {
        "id": "clE9ur4KZjMI"
      },
      "source": [
        "Clayton Cohn <br>\n",
        "11 Oct 2022 <br>\n",
        "OELE Lab <br>\n",
        "Vanderbilt University <br>\n",
        "\n",
        "# <center> Tagging Concepts for Automated Assessment Evaluation w/ BERT"
      ]
    },
    {
      "cell_type": "markdown",
      "source": [
        "## Attribution"
      ],
      "metadata": {
        "id": "xOAEkHgzO-XU"
      }
    },
    {
      "cell_type": "markdown",
      "metadata": {
        "id": "dalPevnPd9SM"
      },
      "source": [
        "Certain parts of this notebook were adapted from Drew Perkins' tutorial via Towards Data Science: \n",
        "\n",
        "https://towardsdatascience.com/tagging-genes-and-proteins-with-biobert-c7b04fc6eb4f"
      ]
    },
    {
      "cell_type": "markdown",
      "metadata": {
        "id": "TSOLonK1y73g"
      },
      "source": [
        "## Introduction"
      ]
    },
    {
      "cell_type": "markdown",
      "metadata": {
        "id": "5iMDM_oRZ3C0"
      },
      "source": [
        "This notebook is created by Clayton Cohn to provide a real-world code example using [BERT](https://arxiv.org/abs/1810.04805) for the author's DS5899 — Special Topics: Transformers paper presentation.\n",
        "\n",
        "This notebook was used in the author's research for tagging scientific concepts in student essays for the purpose of evaluating programmatic means of automated formative assessment evaluation.\n",
        "\n",
        "The data was collected via a study of 5th and 6th grade student participants as part of the [SPICE](https://spiceprojects.org/) (Science Projects Integrating Computing and Engineering) initiative. The data was collected and annotated by the author's colleague and lab-mate, Dr. Nicole Hutchins, for analysis."
      ]
    },
    {
      "cell_type": "markdown",
      "metadata": {
        "id": "SNW9d-TRbN6c"
      },
      "source": [
        "Students were presented a diagram that used arrows to display where water goes during and after precipitation. They were then asked to identify what the size of each arrow meant. Each instance in the dataset is an individual student response to this question. "
      ]
    },
    {
      "cell_type": "markdown",
      "metadata": {
        "id": "1dY-y81QbeEQ"
      },
      "source": [
        "The correct answer is that the size of the arrow is indicative of the quantity of water. The idea behind this notebook is to tag specific sentence fragments that correctly identify the meaning behind the size of the arrows. By doing this, we accomplish two things:\n",
        "\n",
        "1.   Determine whether or not the student correctly answered the question, i.e. sentence-level classification\n",
        "2.   Identify *where*, if anywhere, the student correctly answered the question, i.e. WordPiece-level tagging.\n",
        "\n",
        "By accomplishing these tasks, the model will be able to  provide programmatic formative assessment evaluation for teachers' feedback to students.\n",
        "\n"
      ]
    },
    {
      "cell_type": "markdown",
      "metadata": {
        "id": "C1gzltc-zlo6"
      },
      "source": [
        "## Preprocessing"
      ]
    },
    {
      "cell_type": "markdown",
      "metadata": {
        "id": "CI74D6uAzBX1"
      },
      "source": [
        "### Data Gathering"
      ]
    },
    {
      "cell_type": "markdown",
      "metadata": {
        "id": "ZdbKYhbuaToD"
      },
      "source": [
        "This notebook is created via Google Colab. As such, the Google Drive must be mounted to access it."
      ]
    },
    {
      "cell_type": "code",
      "metadata": {
        "id": "Jm9JksAbEE4a",
        "colab": {
          "base_uri": "https://localhost:8080/"
        },
        "outputId": "fcb286a2-fc02-418b-95d8-f4b4c5ed5a3a"
      },
      "source": [
        "from google.colab import drive\n",
        "drive.mount('/content/drive')"
      ],
      "execution_count": 1,
      "outputs": [
        {
          "output_type": "stream",
          "name": "stdout",
          "text": [
            "Mounted at /content/drive\n"
          ]
        }
      ]
    },
    {
      "cell_type": "markdown",
      "metadata": {
        "id": "h1RYQ5OfauYK"
      },
      "source": [
        "Define file name and path name constants to use to access the data from Google Drive"
      ]
    },
    {
      "cell_type": "code",
      "metadata": {
        "id": "7mDKS3oeEUL2"
      },
      "source": [
        "DATA_PATH = \"drive/My Drive/VU_DPU/data/\"\n",
        "FILE_NAME = \"meigs-fa1-q1-iob2_AUGMENTED.csv\""
      ],
      "execution_count": 2,
      "outputs": []
    },
    {
      "cell_type": "markdown",
      "metadata": {
        "id": "SAYVT4UlQ6Uc"
      },
      "source": [
        "We also need to define our random seeds, as we will alternate between these during the testing phase.\n",
        "\n",
        "The ```it``` value is so that we can iterate through the seeds easily."
      ]
    },
    {
      "cell_type": "code",
      "metadata": {
        "id": "TVyyjzhYRAy6"
      },
      "source": [
        "it = 6\n",
        "seeds = [0, 2, 7, 31, 2025, 112358, 19861115]"
      ],
      "execution_count": 3,
      "outputs": []
    },
    {
      "cell_type": "markdown",
      "metadata": {
        "id": "a_-WL7-ma4EC"
      },
      "source": [
        "Import data into Pandas DataFrame for analysis."
      ]
    },
    {
      "cell_type": "code",
      "metadata": {
        "colab": {
          "base_uri": "https://localhost:8080/",
          "height": 206
        },
        "id": "c2lfnjVaE4FD",
        "outputId": "54dd9077-0a23-41b1-9251-1030b1eac652"
      },
      "source": [
        "import pandas as pd\n",
        "\n",
        "# Enable longer printing\n",
        "pd.set_option('display.max_rows', 5000)\n",
        "\n",
        "df = pd.read_csv(DATA_PATH + FILE_NAME)\n",
        "df.head(5)"
      ],
      "execution_count": 4,
      "outputs": [
        {
          "output_type": "execute_result",
          "data": {
            "text/plain": [
              "         sent     word tag labels\n",
              "0  Sentence 2     Once   O  ['0']\n",
              "1         NaN       it   O    NaN\n",
              "2         NaN  reaches   O    NaN\n",
              "3         NaN      the   O    NaN\n",
              "4         NaN   ground   O    NaN"
            ],
            "text/html": [
              "\n",
              "  <div id=\"df-1b7c7c40-996e-43f0-af20-e4b75a81e07a\">\n",
              "    <div class=\"colab-df-container\">\n",
              "      <div>\n",
              "<style scoped>\n",
              "    .dataframe tbody tr th:only-of-type {\n",
              "        vertical-align: middle;\n",
              "    }\n",
              "\n",
              "    .dataframe tbody tr th {\n",
              "        vertical-align: top;\n",
              "    }\n",
              "\n",
              "    .dataframe thead th {\n",
              "        text-align: right;\n",
              "    }\n",
              "</style>\n",
              "<table border=\"1\" class=\"dataframe\">\n",
              "  <thead>\n",
              "    <tr style=\"text-align: right;\">\n",
              "      <th></th>\n",
              "      <th>sent</th>\n",
              "      <th>word</th>\n",
              "      <th>tag</th>\n",
              "      <th>labels</th>\n",
              "    </tr>\n",
              "  </thead>\n",
              "  <tbody>\n",
              "    <tr>\n",
              "      <th>0</th>\n",
              "      <td>Sentence 2</td>\n",
              "      <td>Once</td>\n",
              "      <td>O</td>\n",
              "      <td>['0']</td>\n",
              "    </tr>\n",
              "    <tr>\n",
              "      <th>1</th>\n",
              "      <td>NaN</td>\n",
              "      <td>it</td>\n",
              "      <td>O</td>\n",
              "      <td>NaN</td>\n",
              "    </tr>\n",
              "    <tr>\n",
              "      <th>2</th>\n",
              "      <td>NaN</td>\n",
              "      <td>reaches</td>\n",
              "      <td>O</td>\n",
              "      <td>NaN</td>\n",
              "    </tr>\n",
              "    <tr>\n",
              "      <th>3</th>\n",
              "      <td>NaN</td>\n",
              "      <td>the</td>\n",
              "      <td>O</td>\n",
              "      <td>NaN</td>\n",
              "    </tr>\n",
              "    <tr>\n",
              "      <th>4</th>\n",
              "      <td>NaN</td>\n",
              "      <td>ground</td>\n",
              "      <td>O</td>\n",
              "      <td>NaN</td>\n",
              "    </tr>\n",
              "  </tbody>\n",
              "</table>\n",
              "</div>\n",
              "      <button class=\"colab-df-convert\" onclick=\"convertToInteractive('df-1b7c7c40-996e-43f0-af20-e4b75a81e07a')\"\n",
              "              title=\"Convert this dataframe to an interactive table.\"\n",
              "              style=\"display:none;\">\n",
              "        \n",
              "  <svg xmlns=\"http://www.w3.org/2000/svg\" height=\"24px\"viewBox=\"0 0 24 24\"\n",
              "       width=\"24px\">\n",
              "    <path d=\"M0 0h24v24H0V0z\" fill=\"none\"/>\n",
              "    <path d=\"M18.56 5.44l.94 2.06.94-2.06 2.06-.94-2.06-.94-.94-2.06-.94 2.06-2.06.94zm-11 1L8.5 8.5l.94-2.06 2.06-.94-2.06-.94L8.5 2.5l-.94 2.06-2.06.94zm10 10l.94 2.06.94-2.06 2.06-.94-2.06-.94-.94-2.06-.94 2.06-2.06.94z\"/><path d=\"M17.41 7.96l-1.37-1.37c-.4-.4-.92-.59-1.43-.59-.52 0-1.04.2-1.43.59L10.3 9.45l-7.72 7.72c-.78.78-.78 2.05 0 2.83L4 21.41c.39.39.9.59 1.41.59.51 0 1.02-.2 1.41-.59l7.78-7.78 2.81-2.81c.8-.78.8-2.07 0-2.86zM5.41 20L4 18.59l7.72-7.72 1.47 1.35L5.41 20z\"/>\n",
              "  </svg>\n",
              "      </button>\n",
              "      \n",
              "  <style>\n",
              "    .colab-df-container {\n",
              "      display:flex;\n",
              "      flex-wrap:wrap;\n",
              "      gap: 12px;\n",
              "    }\n",
              "\n",
              "    .colab-df-convert {\n",
              "      background-color: #E8F0FE;\n",
              "      border: none;\n",
              "      border-radius: 50%;\n",
              "      cursor: pointer;\n",
              "      display: none;\n",
              "      fill: #1967D2;\n",
              "      height: 32px;\n",
              "      padding: 0 0 0 0;\n",
              "      width: 32px;\n",
              "    }\n",
              "\n",
              "    .colab-df-convert:hover {\n",
              "      background-color: #E2EBFA;\n",
              "      box-shadow: 0px 1px 2px rgba(60, 64, 67, 0.3), 0px 1px 3px 1px rgba(60, 64, 67, 0.15);\n",
              "      fill: #174EA6;\n",
              "    }\n",
              "\n",
              "    [theme=dark] .colab-df-convert {\n",
              "      background-color: #3B4455;\n",
              "      fill: #D2E3FC;\n",
              "    }\n",
              "\n",
              "    [theme=dark] .colab-df-convert:hover {\n",
              "      background-color: #434B5C;\n",
              "      box-shadow: 0px 1px 3px 1px rgba(0, 0, 0, 0.15);\n",
              "      filter: drop-shadow(0px 1px 2px rgba(0, 0, 0, 0.3));\n",
              "      fill: #FFFFFF;\n",
              "    }\n",
              "  </style>\n",
              "\n",
              "      <script>\n",
              "        const buttonEl =\n",
              "          document.querySelector('#df-1b7c7c40-996e-43f0-af20-e4b75a81e07a button.colab-df-convert');\n",
              "        buttonEl.style.display =\n",
              "          google.colab.kernel.accessAllowed ? 'block' : 'none';\n",
              "\n",
              "        async function convertToInteractive(key) {\n",
              "          const element = document.querySelector('#df-1b7c7c40-996e-43f0-af20-e4b75a81e07a');\n",
              "          const dataTable =\n",
              "            await google.colab.kernel.invokeFunction('convertToInteractive',\n",
              "                                                     [key], {});\n",
              "          if (!dataTable) return;\n",
              "\n",
              "          const docLinkHtml = 'Like what you see? Visit the ' +\n",
              "            '<a target=\"_blank\" href=https://colab.research.google.com/notebooks/data_table.ipynb>data table notebook</a>'\n",
              "            + ' to learn more about interactive tables.';\n",
              "          element.innerHTML = '';\n",
              "          dataTable['output_type'] = 'display_data';\n",
              "          await google.colab.output.renderOutput(dataTable, element);\n",
              "          const docLink = document.createElement('div');\n",
              "          docLink.innerHTML = docLinkHtml;\n",
              "          element.appendChild(docLink);\n",
              "        }\n",
              "      </script>\n",
              "    </div>\n",
              "  </div>\n",
              "  "
            ]
          },
          "metadata": {},
          "execution_count": 4
        }
      ]
    },
    {
      "cell_type": "markdown",
      "metadata": {
        "id": "4BISJ4tKa9lD"
      },
      "source": [
        "Get rid of NaN values to avoid errors when working with the DataFrame."
      ]
    },
    {
      "cell_type": "code",
      "metadata": {
        "colab": {
          "base_uri": "https://localhost:8080/",
          "height": 206
        },
        "id": "gWlbT_aHsO3j",
        "outputId": "a277a825-0cf3-40b8-a6e4-e29d7134aaf9"
      },
      "source": [
        "import numpy as np\n",
        "\n",
        "df_num = df.copy(deep=True)\n",
        "df_num.iloc[0][\"sent\"] = 0\n",
        "df_num.columns = [\"s_num\",\"word\",\"tag\",\"labels\"]\n",
        "df_num = df_num.fillna(-1)\n",
        "\n",
        "snum = -1\n",
        "for idx, row in df_num.iterrows():\n",
        "  if row[\"s_num\"] == -1: row[\"s_num\"] = snum\n",
        "  else: \n",
        "    snum += 1\n",
        "    row[\"s_num\"] = snum\n",
        "\n",
        "df_num.head(5)"
      ],
      "execution_count": 5,
      "outputs": [
        {
          "output_type": "execute_result",
          "data": {
            "text/plain": [
              "  s_num     word tag labels\n",
              "0     0     Once   O  ['0']\n",
              "1     0       it   O     -1\n",
              "2     0  reaches   O     -1\n",
              "3     0      the   O     -1\n",
              "4     0   ground   O     -1"
            ],
            "text/html": [
              "\n",
              "  <div id=\"df-e8e9b72a-ffac-4a1b-9253-a5e0af371f74\">\n",
              "    <div class=\"colab-df-container\">\n",
              "      <div>\n",
              "<style scoped>\n",
              "    .dataframe tbody tr th:only-of-type {\n",
              "        vertical-align: middle;\n",
              "    }\n",
              "\n",
              "    .dataframe tbody tr th {\n",
              "        vertical-align: top;\n",
              "    }\n",
              "\n",
              "    .dataframe thead th {\n",
              "        text-align: right;\n",
              "    }\n",
              "</style>\n",
              "<table border=\"1\" class=\"dataframe\">\n",
              "  <thead>\n",
              "    <tr style=\"text-align: right;\">\n",
              "      <th></th>\n",
              "      <th>s_num</th>\n",
              "      <th>word</th>\n",
              "      <th>tag</th>\n",
              "      <th>labels</th>\n",
              "    </tr>\n",
              "  </thead>\n",
              "  <tbody>\n",
              "    <tr>\n",
              "      <th>0</th>\n",
              "      <td>0</td>\n",
              "      <td>Once</td>\n",
              "      <td>O</td>\n",
              "      <td>['0']</td>\n",
              "    </tr>\n",
              "    <tr>\n",
              "      <th>1</th>\n",
              "      <td>0</td>\n",
              "      <td>it</td>\n",
              "      <td>O</td>\n",
              "      <td>-1</td>\n",
              "    </tr>\n",
              "    <tr>\n",
              "      <th>2</th>\n",
              "      <td>0</td>\n",
              "      <td>reaches</td>\n",
              "      <td>O</td>\n",
              "      <td>-1</td>\n",
              "    </tr>\n",
              "    <tr>\n",
              "      <th>3</th>\n",
              "      <td>0</td>\n",
              "      <td>the</td>\n",
              "      <td>O</td>\n",
              "      <td>-1</td>\n",
              "    </tr>\n",
              "    <tr>\n",
              "      <th>4</th>\n",
              "      <td>0</td>\n",
              "      <td>ground</td>\n",
              "      <td>O</td>\n",
              "      <td>-1</td>\n",
              "    </tr>\n",
              "  </tbody>\n",
              "</table>\n",
              "</div>\n",
              "      <button class=\"colab-df-convert\" onclick=\"convertToInteractive('df-e8e9b72a-ffac-4a1b-9253-a5e0af371f74')\"\n",
              "              title=\"Convert this dataframe to an interactive table.\"\n",
              "              style=\"display:none;\">\n",
              "        \n",
              "  <svg xmlns=\"http://www.w3.org/2000/svg\" height=\"24px\"viewBox=\"0 0 24 24\"\n",
              "       width=\"24px\">\n",
              "    <path d=\"M0 0h24v24H0V0z\" fill=\"none\"/>\n",
              "    <path d=\"M18.56 5.44l.94 2.06.94-2.06 2.06-.94-2.06-.94-.94-2.06-.94 2.06-2.06.94zm-11 1L8.5 8.5l.94-2.06 2.06-.94-2.06-.94L8.5 2.5l-.94 2.06-2.06.94zm10 10l.94 2.06.94-2.06 2.06-.94-2.06-.94-.94-2.06-.94 2.06-2.06.94z\"/><path d=\"M17.41 7.96l-1.37-1.37c-.4-.4-.92-.59-1.43-.59-.52 0-1.04.2-1.43.59L10.3 9.45l-7.72 7.72c-.78.78-.78 2.05 0 2.83L4 21.41c.39.39.9.59 1.41.59.51 0 1.02-.2 1.41-.59l7.78-7.78 2.81-2.81c.8-.78.8-2.07 0-2.86zM5.41 20L4 18.59l7.72-7.72 1.47 1.35L5.41 20z\"/>\n",
              "  </svg>\n",
              "      </button>\n",
              "      \n",
              "  <style>\n",
              "    .colab-df-container {\n",
              "      display:flex;\n",
              "      flex-wrap:wrap;\n",
              "      gap: 12px;\n",
              "    }\n",
              "\n",
              "    .colab-df-convert {\n",
              "      background-color: #E8F0FE;\n",
              "      border: none;\n",
              "      border-radius: 50%;\n",
              "      cursor: pointer;\n",
              "      display: none;\n",
              "      fill: #1967D2;\n",
              "      height: 32px;\n",
              "      padding: 0 0 0 0;\n",
              "      width: 32px;\n",
              "    }\n",
              "\n",
              "    .colab-df-convert:hover {\n",
              "      background-color: #E2EBFA;\n",
              "      box-shadow: 0px 1px 2px rgba(60, 64, 67, 0.3), 0px 1px 3px 1px rgba(60, 64, 67, 0.15);\n",
              "      fill: #174EA6;\n",
              "    }\n",
              "\n",
              "    [theme=dark] .colab-df-convert {\n",
              "      background-color: #3B4455;\n",
              "      fill: #D2E3FC;\n",
              "    }\n",
              "\n",
              "    [theme=dark] .colab-df-convert:hover {\n",
              "      background-color: #434B5C;\n",
              "      box-shadow: 0px 1px 3px 1px rgba(0, 0, 0, 0.15);\n",
              "      filter: drop-shadow(0px 1px 2px rgba(0, 0, 0, 0.3));\n",
              "      fill: #FFFFFF;\n",
              "    }\n",
              "  </style>\n",
              "\n",
              "      <script>\n",
              "        const buttonEl =\n",
              "          document.querySelector('#df-e8e9b72a-ffac-4a1b-9253-a5e0af371f74 button.colab-df-convert');\n",
              "        buttonEl.style.display =\n",
              "          google.colab.kernel.accessAllowed ? 'block' : 'none';\n",
              "\n",
              "        async function convertToInteractive(key) {\n",
              "          const element = document.querySelector('#df-e8e9b72a-ffac-4a1b-9253-a5e0af371f74');\n",
              "          const dataTable =\n",
              "            await google.colab.kernel.invokeFunction('convertToInteractive',\n",
              "                                                     [key], {});\n",
              "          if (!dataTable) return;\n",
              "\n",
              "          const docLinkHtml = 'Like what you see? Visit the ' +\n",
              "            '<a target=\"_blank\" href=https://colab.research.google.com/notebooks/data_table.ipynb>data table notebook</a>'\n",
              "            + ' to learn more about interactive tables.';\n",
              "          element.innerHTML = '';\n",
              "          dataTable['output_type'] = 'display_data';\n",
              "          await google.colab.output.renderOutput(dataTable, element);\n",
              "          const docLink = document.createElement('div');\n",
              "          docLink.innerHTML = docLinkHtml;\n",
              "          element.appendChild(docLink);\n",
              "        }\n",
              "      </script>\n",
              "    </div>\n",
              "  </div>\n",
              "  "
            ]
          },
          "metadata": {},
          "execution_count": 5
        }
      ]
    },
    {
      "cell_type": "markdown",
      "metadata": {
        "id": "UeBFn4krzMxz"
      },
      "source": [
        "### EDA (Exploratory Data Analysis)"
      ]
    },
    {
      "cell_type": "markdown",
      "metadata": {
        "id": "zuoVp7E3bET4"
      },
      "source": [
        "Ensure all null values removed."
      ]
    },
    {
      "cell_type": "code",
      "metadata": {
        "colab": {
          "base_uri": "https://localhost:8080/"
        },
        "id": "AK16tKAksPAI",
        "outputId": "5ed2b16e-c818-498c-84da-3d685129f895"
      },
      "source": [
        "print(\"Any nulls? \", df_num.isnull().values.any())"
      ],
      "execution_count": 6,
      "outputs": [
        {
          "output_type": "stream",
          "name": "stdout",
          "text": [
            "Any nulls?  False\n"
          ]
        }
      ]
    },
    {
      "cell_type": "markdown",
      "metadata": {
        "id": "X3QiJYw2bJBv"
      },
      "source": [
        "See how the sentences break down by class."
      ]
    },
    {
      "cell_type": "code",
      "metadata": {
        "colab": {
          "base_uri": "https://localhost:8080/"
        },
        "id": "y-gf99jXJFg8",
        "outputId": "9f216fba-2555-4b03-c817-39e5243306a2"
      },
      "source": [
        "labels = df_num[\"labels\"].to_numpy()\n",
        "others = []\n",
        "for n in labels:\n",
        "  others.append(n)\n",
        "\n",
        "res = {}\n",
        "\n",
        "for n in others:\n",
        "  if n == -1: continue\n",
        "  if n[2] not in res: res[n[2]] = 1\n",
        "  else: res[n[2]] += 1\n",
        "  \n",
        "print(res)\n",
        "\n",
        "# df_sent = df_num[df_num[\"labels\"] != -1]\n",
        "# df_sent['labels'] = df_sent['labels'].str[2]\n",
        "\n",
        "# df_sent_ones = df_sent[df_sent[\"labels\"] == \"1\"]\n",
        "# df_sent_zeros = df_sent[df_sent[\"labels\"] == \"0\"]\n",
        "\n",
        "# print(f\"0: {len(df_sent_zeros)}, 1: {len(df_sent_ones)}\\n\")"
      ],
      "execution_count": 7,
      "outputs": [
        {
          "output_type": "stream",
          "name": "stdout",
          "text": [
            "{'0': 103, '1': 86}\n"
          ]
        }
      ]
    },
    {
      "cell_type": "markdown",
      "metadata": {
        "id": "AbhPmJh6cnPu"
      },
      "source": [
        "Ensure that the sentence number is correctly identified by Python as a numerical representation."
      ]
    },
    {
      "cell_type": "code",
      "metadata": {
        "id": "2dZqDmJfsv0V"
      },
      "source": [
        "df_num[\"s_num\"] = df_num[\"s_num\"].astype(str).astype(int)"
      ],
      "execution_count": 8,
      "outputs": []
    },
    {
      "cell_type": "markdown",
      "metadata": {
        "id": "0Wug9Xc-ctfr"
      },
      "source": [
        "In traditional NLP tagging approaches, the BIO scheme is used; however, in this case, this is unnecessary, so the Bs and Is will be removed."
      ]
    },
    {
      "cell_type": "code",
      "metadata": {
        "id": "S-pWMCU5tFUK"
      },
      "source": [
        "df_num[\"tag\"] = df_num.apply(lambda x: x[\"tag\"][2:] if x[\"tag\"][:2] in [\"B-\", \"I-\"] else x[\"tag\"], axis=1)"
      ],
      "execution_count": 9,
      "outputs": []
    },
    {
      "cell_type": "code",
      "metadata": {
        "id": "Z5tZUQ50xuic"
      },
      "source": [
        "df_num[\"tag\"] = df_num.apply(lambda x: x[\"tag\"] if x[\"tag\"] in [\"AMOUNT-1-1\"] else \"O\", axis=1)"
      ],
      "execution_count": 10,
      "outputs": []
    },
    {
      "cell_type": "markdown",
      "metadata": {
        "id": "3KYGccy5dK2C"
      },
      "source": [
        "Let's examine the DataFrame and make sure that the correct labels exist on the word level."
      ]
    },
    {
      "cell_type": "code",
      "metadata": {
        "colab": {
          "base_uri": "https://localhost:8080/"
        },
        "id": "cmo9UAxtsyLN",
        "outputId": "87ba8d9c-ea77-4de7-8034-5668fdbb1b1a"
      },
      "source": [
        "print(\"Shape:\", df_num.shape)\n",
        "print(df_num.info())"
      ],
      "execution_count": 11,
      "outputs": [
        {
          "output_type": "stream",
          "name": "stdout",
          "text": [
            "Shape: (2538, 4)\n",
            "<class 'pandas.core.frame.DataFrame'>\n",
            "RangeIndex: 2538 entries, 0 to 2537\n",
            "Data columns (total 4 columns):\n",
            " #   Column  Non-Null Count  Dtype \n",
            "---  ------  --------------  ----- \n",
            " 0   s_num   2538 non-null   int64 \n",
            " 1   word    2538 non-null   object\n",
            " 2   tag     2538 non-null   object\n",
            " 3   labels  2538 non-null   object\n",
            "dtypes: int64(1), object(3)\n",
            "memory usage: 79.4+ KB\n",
            "None\n"
          ]
        }
      ]
    },
    {
      "cell_type": "code",
      "metadata": {
        "colab": {
          "base_uri": "https://localhost:8080/"
        },
        "id": "YNU--JJ7s5VX",
        "outputId": "1c21a15a-5269-47de-90b7-8c083fdbd556"
      },
      "source": [
        "print(\"Unique labels:\")\n",
        "sorted(df_num.tag.unique())"
      ],
      "execution_count": 12,
      "outputs": [
        {
          "output_type": "stream",
          "name": "stdout",
          "text": [
            "Unique labels:\n"
          ]
        },
        {
          "output_type": "execute_result",
          "data": {
            "text/plain": [
              "['AMOUNT-1-1', 'O']"
            ]
          },
          "metadata": {},
          "execution_count": 12
        }
      ]
    },
    {
      "cell_type": "markdown",
      "metadata": {
        "id": "jS7-5q8edXOj"
      },
      "source": [
        "Let's see the tag distribution across the dataset."
      ]
    },
    {
      "cell_type": "code",
      "metadata": {
        "colab": {
          "base_uri": "https://localhost:8080/"
        },
        "id": "ctH3NGX3tGQF",
        "outputId": "42fa4755-0871-4aa3-a087-27f94524f448"
      },
      "source": [
        "print(df_num.tag.value_counts())"
      ],
      "execution_count": 13,
      "outputs": [
        {
          "output_type": "stream",
          "name": "stdout",
          "text": [
            "O             2116\n",
            "AMOUNT-1-1     422\n",
            "Name: tag, dtype: int64\n"
          ]
        }
      ]
    },
    {
      "cell_type": "markdown",
      "metadata": {
        "id": "omAsgRkrdeL6"
      },
      "source": [
        "Now we will see which sentences are the longest. This will be used when determining the maximum input length to BERT."
      ]
    },
    {
      "cell_type": "code",
      "metadata": {
        "colab": {
          "base_uri": "https://localhost:8080/"
        },
        "id": "WehEI-aVtIdS",
        "outputId": "ce277340-02f2-4086-cabf-b58bfaf2f9e8"
      },
      "source": [
        "print(df_num.s_num.value_counts()[:5])"
      ],
      "execution_count": 14,
      "outputs": [
        {
          "output_type": "stream",
          "name": "stdout",
          "text": [
            "123    62\n",
            "21     40\n",
            "4      38\n",
            "91     37\n",
            "83     35\n",
            "Name: s_num, dtype: int64\n"
          ]
        }
      ]
    },
    {
      "cell_type": "markdown",
      "metadata": {
        "id": "5hUgeif0zVCc"
      },
      "source": [
        "### Sentence Creation (from words in DataFrame)"
      ]
    },
    {
      "cell_type": "markdown",
      "metadata": {
        "id": "9jwIkhjAdpcG"
      },
      "source": [
        "```SentenceGetter``` class c/o Nasir Safdari via TDS🇰\n",
        "https://towardsdatascience.com/named-entity-recognition-ner-meeting-industrys-requirement-by-applying-state-of-the-art-deep-698d2b3b4ede\n",
        "\n",
        "It is used to extract full sentences from the DataFrame that are currently represented as individual words."
      ]
    },
    {
      "cell_type": "code",
      "metadata": {
        "id": "plBbBb2otOvy"
      },
      "source": [
        "class SentenceGetter(object):\n",
        "  def __init__(self, data):\n",
        "      self.n_sent = 1\n",
        "      self.data = data\n",
        "      self.empty = False\n",
        "      agg_func = lambda s: [(w, l) for w, l in zip(s[\"word\"].values.tolist(), s[\"tag\"].values.tolist())]\n",
        "      self.grouped = self.data.groupby(\"s_num\").apply(agg_func)\n",
        "      self.sentences = [s for s in self.grouped]\n",
        "\n",
        "  def get_next(self):\n",
        "      try:\n",
        "          s = self.grouped[\"Sentence: {}\".format(self.n_sent)]\n",
        "          self.n_sent += 1\n",
        "          return s\n",
        "      except:\n",
        "          return None"
      ],
      "execution_count": 15,
      "outputs": []
    },
    {
      "cell_type": "code",
      "metadata": {
        "id": "v7bd6YZntQ4a"
      },
      "source": [
        "getter = SentenceGetter(df_num)"
      ],
      "execution_count": 16,
      "outputs": []
    },
    {
      "cell_type": "markdown",
      "metadata": {
        "id": "jK7kZe0Fehj-"
      },
      "source": [
        "This is an example of one of the instances returned by the SentenceGetter (both words and word tags)."
      ]
    },
    {
      "cell_type": "code",
      "metadata": {
        "colab": {
          "base_uri": "https://localhost:8080/"
        },
        "id": "pQmy2VNrtSe0",
        "outputId": "e14094c3-e9aa-4e68-ed8b-e3853d575c52"
      },
      "source": [
        "sents = [[word[0] for word in sentence] for sentence in getter.sentences]\n",
        "sents[0]"
      ],
      "execution_count": 17,
      "outputs": [
        {
          "output_type": "execute_result",
          "data": {
            "text/plain": [
              "['Once',\n",
              " 'it',\n",
              " 'reaches',\n",
              " 'the',\n",
              " 'ground',\n",
              " 'some',\n",
              " 'of',\n",
              " 'it',\n",
              " 'absorbs',\n",
              " 'and',\n",
              " 'the',\n",
              " 'rest',\n",
              " 'gets',\n",
              " 'poluted',\n",
              " 'and',\n",
              " 'flows',\n",
              " 'right',\n",
              " 'into',\n",
              " 'the',\n",
              " 'stream']"
            ]
          },
          "metadata": {},
          "execution_count": 17
        }
      ]
    },
    {
      "cell_type": "code",
      "metadata": {
        "colab": {
          "base_uri": "https://localhost:8080/"
        },
        "id": "2G1FS_aZtYGu",
        "outputId": "9d3cafdc-02d7-46bf-d513-99a094db6815"
      },
      "source": [
        "labels = [[s[1] for s in sentence] for sentence in getter.sentences]\n",
        "print(labels[0])"
      ],
      "execution_count": 18,
      "outputs": [
        {
          "output_type": "stream",
          "name": "stdout",
          "text": [
            "['O', 'O', 'O', 'O', 'O', 'O', 'O', 'O', 'O', 'O', 'O', 'O', 'O', 'O', 'O', 'O', 'O', 'O', 'O', 'O']\n"
          ]
        }
      ]
    },
    {
      "cell_type": "markdown",
      "metadata": {
        "id": "y-Fj-7tUse-k"
      },
      "source": [
        "We have to store the set of tags and map them to indices to feed into BERT. Additionally, the PAD tag needs to be added because it will be used during training."
      ]
    },
    {
      "cell_type": "code",
      "metadata": {
        "id": "dSvQMttYtlB0"
      },
      "source": [
        "tag_values = list(set(df_num[\"tag\"].values))\n",
        "tag_values.append(\"PAD\")\n",
        "tag2idx = {t: i for i, t in enumerate(tag_values)}"
      ],
      "execution_count": 19,
      "outputs": []
    },
    {
      "cell_type": "markdown",
      "metadata": {
        "id": "PGFGW9Iezkoo"
      },
      "source": [
        "### Install and Import Libraries"
      ]
    },
    {
      "cell_type": "markdown",
      "metadata": {
        "id": "oYg7TYVttN24"
      },
      "source": [
        "We need to install Transformers and Torch to run BERT."
      ]
    },
    {
      "cell_type": "code",
      "metadata": {
        "colab": {
          "base_uri": "https://localhost:8080/"
        },
        "id": "J4WDO8X7tnkl",
        "outputId": "d1a8767d-2e8f-4f2a-93fc-4b7dad458dc2"
      },
      "source": [
        "!pip install transformers;\n",
        "!pip install torch;"
      ],
      "execution_count": 20,
      "outputs": [
        {
          "output_type": "stream",
          "name": "stdout",
          "text": [
            "Looking in indexes: https://pypi.org/simple, https://us-python.pkg.dev/colab-wheels/public/simple/\n",
            "Collecting transformers\n",
            "  Downloading transformers-4.23.1-py3-none-any.whl (5.3 MB)\n",
            "\u001b[K     |████████████████████████████████| 5.3 MB 5.0 MB/s \n",
            "\u001b[?25hRequirement already satisfied: tqdm>=4.27 in /usr/local/lib/python3.7/dist-packages (from transformers) (4.64.1)\n",
            "Requirement already satisfied: regex!=2019.12.17 in /usr/local/lib/python3.7/dist-packages (from transformers) (2022.6.2)\n",
            "Requirement already satisfied: pyyaml>=5.1 in /usr/local/lib/python3.7/dist-packages (from transformers) (6.0)\n",
            "Requirement already satisfied: filelock in /usr/local/lib/python3.7/dist-packages (from transformers) (3.8.0)\n",
            "Collecting tokenizers!=0.11.3,<0.14,>=0.11.1\n",
            "  Downloading tokenizers-0.13.1-cp37-cp37m-manylinux_2_17_x86_64.manylinux2014_x86_64.whl (7.6 MB)\n",
            "\u001b[K     |████████████████████████████████| 7.6 MB 59.1 MB/s \n",
            "\u001b[?25hRequirement already satisfied: numpy>=1.17 in /usr/local/lib/python3.7/dist-packages (from transformers) (1.21.6)\n",
            "Requirement already satisfied: importlib-metadata in /usr/local/lib/python3.7/dist-packages (from transformers) (5.0.0)\n",
            "Requirement already satisfied: requests in /usr/local/lib/python3.7/dist-packages (from transformers) (2.23.0)\n",
            "Collecting huggingface-hub<1.0,>=0.10.0\n",
            "  Downloading huggingface_hub-0.10.1-py3-none-any.whl (163 kB)\n",
            "\u001b[K     |████████████████████████████████| 163 kB 85.6 MB/s \n",
            "\u001b[?25hRequirement already satisfied: packaging>=20.0 in /usr/local/lib/python3.7/dist-packages (from transformers) (21.3)\n",
            "Requirement already satisfied: typing-extensions>=3.7.4.3 in /usr/local/lib/python3.7/dist-packages (from huggingface-hub<1.0,>=0.10.0->transformers) (4.1.1)\n",
            "Requirement already satisfied: pyparsing!=3.0.5,>=2.0.2 in /usr/local/lib/python3.7/dist-packages (from packaging>=20.0->transformers) (3.0.9)\n",
            "Requirement already satisfied: zipp>=0.5 in /usr/local/lib/python3.7/dist-packages (from importlib-metadata->transformers) (3.8.1)\n",
            "Requirement already satisfied: certifi>=2017.4.17 in /usr/local/lib/python3.7/dist-packages (from requests->transformers) (2022.9.24)\n",
            "Requirement already satisfied: chardet<4,>=3.0.2 in /usr/local/lib/python3.7/dist-packages (from requests->transformers) (3.0.4)\n",
            "Requirement already satisfied: idna<3,>=2.5 in /usr/local/lib/python3.7/dist-packages (from requests->transformers) (2.10)\n",
            "Requirement already satisfied: urllib3!=1.25.0,!=1.25.1,<1.26,>=1.21.1 in /usr/local/lib/python3.7/dist-packages (from requests->transformers) (1.24.3)\n",
            "Installing collected packages: tokenizers, huggingface-hub, transformers\n",
            "Successfully installed huggingface-hub-0.10.1 tokenizers-0.13.1 transformers-4.23.1\n",
            "Looking in indexes: https://pypi.org/simple, https://us-python.pkg.dev/colab-wheels/public/simple/\n",
            "Requirement already satisfied: torch in /usr/local/lib/python3.7/dist-packages (1.12.1+cu113)\n",
            "Requirement already satisfied: typing-extensions in /usr/local/lib/python3.7/dist-packages (from torch) (4.1.1)\n"
          ]
        }
      ]
    },
    {
      "cell_type": "code",
      "metadata": {
        "colab": {
          "base_uri": "https://localhost:8080/",
          "height": 36
        },
        "id": "s3gEyk05to-Q",
        "outputId": "b4f81c24-ac73-4ee6-dd57-ea2b835db42a"
      },
      "source": [
        "import torch\n",
        "from torch.utils.data import TensorDataset, DataLoader, RandomSampler, SequentialSampler\n",
        "from transformers import BertTokenizer, BertConfig\n",
        "\n",
        "from keras.preprocessing.sequence import pad_sequences\n",
        "from sklearn.model_selection import train_test_split\n",
        "\n",
        "torch.__version__"
      ],
      "execution_count": 21,
      "outputs": [
        {
          "output_type": "execute_result",
          "data": {
            "text/plain": [
              "'1.12.1+cu113'"
            ],
            "application/vnd.google.colaboratory.intrinsic+json": {
              "type": "string"
            }
          },
          "metadata": {},
          "execution_count": 21
        }
      ]
    },
    {
      "cell_type": "markdown",
      "metadata": {
        "id": "K6PE5Mf9tvLY"
      },
      "source": [
        "Colab offers free GPUs for training, so we will run our model on the GPU (if we can)."
      ]
    },
    {
      "cell_type": "code",
      "metadata": {
        "colab": {
          "base_uri": "https://localhost:8080/",
          "height": 36
        },
        "id": "VqS-Up9ets1s",
        "outputId": "5c6a5fb1-de04-48e7-f825-412bcd1708bc"
      },
      "source": [
        "device = torch.device(\"cuda\" if torch.cuda.is_available() else \"cpu\")\n",
        "n_gpu = torch.cuda.device_count()\n",
        "torch.cuda.get_device_name(0)"
      ],
      "execution_count": 22,
      "outputs": [
        {
          "output_type": "execute_result",
          "data": {
            "text/plain": [
              "'Tesla T4'"
            ],
            "application/vnd.google.colaboratory.intrinsic+json": {
              "type": "string"
            }
          },
          "metadata": {},
          "execution_count": 22
        }
      ]
    },
    {
      "cell_type": "markdown",
      "metadata": {
        "id": "_sN_rqLLzzR3"
      },
      "source": [
        "### Prepare Tokenization"
      ]
    },
    {
      "cell_type": "markdown",
      "metadata": {
        "id": "pNi-q_ywt4aq"
      },
      "source": [
        "We will use the standard tokenizer provided by the Transformers module."
      ]
    },
    {
      "cell_type": "code",
      "metadata": {
        "id": "alF3IQ0yuPhh",
        "colab": {
          "base_uri": "https://localhost:8080/",
          "height": 113,
          "referenced_widgets": [
            "1456649f003f4e95a9b5a00badb4d131",
            "574df5d2c58c4fef852d91423c427593",
            "ef177d2cfeb247689bc44d3ae11f3470",
            "4d5f0ef8bdeb455da1fea72d3155ee2e",
            "d9c062f5a3be410198883625fb70ba7d",
            "9378077879064e32931b115820bbb6d6",
            "72cb38cd540a4c32b0d36f5f2080344a",
            "cb364310d5204617a1188dc08ad50d62",
            "7d61bbcbcf9843f4afde0db9532b9acc",
            "d3f051fc2e6b4dcd9a68001def72c261",
            "94582e22882f4ce29bfab296e767ba06",
            "a879675e99224e9ab4a28e65af07992d",
            "97f913a60241404e9c618e3d189ab72c",
            "becb14a4b5804c839de853ca8423acf0",
            "d5aacb8a2a3c4f22a6e787b5b06f8d68",
            "c0b16fde58384f5d9873b92fb6cb1591",
            "b72be6370a1b4a53a039f1ec78792550",
            "8b599bd09a6c4b6e86783c2351b19a5c",
            "85e60f7d710f405888bc271392cfa8a2",
            "e8ed72b935a5407aa5df9c5dc7c9bc7c",
            "0c73280206094b2f9ee2c8136c85cdaa",
            "b639c9e0b9374ff486a88c1d6c665001",
            "7f643ed984204a83b1bdb8db9a48356e",
            "556810bd8ea74c7380ce02440a505217",
            "0b820e379d58483995141b9ad986b0f9",
            "7989bc89cd6f4471acaeb12d3ac12c5e",
            "4da18e3305d4481596da70cd8ef6b1fa",
            "2f53a67b31f84d58980854c0d42dd366",
            "d46ff23ae62c4bca9a4b8c9d58350a39",
            "e39048bdeda64d88b0593b4713b34bff",
            "9f49f76b626e4d90ac9da2d1dd740a65",
            "1d06b215a2294e1883891bae9194dd72",
            "df861cbc7695476db03c35ced239c138"
          ]
        },
        "outputId": "2f23593b-c8f6-4b25-d41b-b0232aab6970"
      },
      "source": [
        "tokenizer = BertTokenizer.from_pretrained('bert-base-cased', do_lower_case=False)"
      ],
      "execution_count": 23,
      "outputs": [
        {
          "output_type": "display_data",
          "data": {
            "text/plain": [
              "Downloading:   0%|          | 0.00/213k [00:00<?, ?B/s]"
            ],
            "application/vnd.jupyter.widget-view+json": {
              "version_major": 2,
              "version_minor": 0,
              "model_id": "1456649f003f4e95a9b5a00badb4d131"
            }
          },
          "metadata": {}
        },
        {
          "output_type": "display_data",
          "data": {
            "text/plain": [
              "Downloading:   0%|          | 0.00/29.0 [00:00<?, ?B/s]"
            ],
            "application/vnd.jupyter.widget-view+json": {
              "version_major": 2,
              "version_minor": 0,
              "model_id": "a879675e99224e9ab4a28e65af07992d"
            }
          },
          "metadata": {}
        },
        {
          "output_type": "display_data",
          "data": {
            "text/plain": [
              "Downloading:   0%|          | 0.00/570 [00:00<?, ?B/s]"
            ],
            "application/vnd.jupyter.widget-view+json": {
              "version_major": 2,
              "version_minor": 0,
              "model_id": "7f643ed984204a83b1bdb8db9a48356e"
            }
          },
          "metadata": {}
        }
      ]
    },
    {
      "cell_type": "markdown",
      "metadata": {
        "id": "wGrqf89IuA5w"
      },
      "source": [
        "This function will zip tokens and labels into individual sentences for training. It is also adopted from the aforementioned TDS source."
      ]
    },
    {
      "cell_type": "code",
      "metadata": {
        "id": "V87M-fRluYmF"
      },
      "source": [
        "def tokenize_with_labels(sentence, text_labels):\n",
        "    tokenized_sentence = []\n",
        "    labels = []\n",
        "\n",
        "    for word, label in zip(sentence, text_labels):\n",
        "        tokenized_word = tokenizer.tokenize(word)\n",
        "        n_subwords = len(tokenized_word)\n",
        "        tokenized_sentence.extend(tokenized_word)\n",
        "        labels.extend([label] * n_subwords)\n",
        "\n",
        "    return tokenized_sentence, labels"
      ],
      "execution_count": 24,
      "outputs": []
    },
    {
      "cell_type": "markdown",
      "metadata": {
        "id": "xFUHLvg1z7QK"
      },
      "source": [
        "### Split Into Training and Testing Partitions"
      ]
    },
    {
      "cell_type": "markdown",
      "metadata": {
        "id": "mpCjd3r6uMpj"
      },
      "source": [
        "Define a constant that identifies the maximum ```s_num``` feature from the DataFrame. 1 + MAX_SENT = number of sentences in DataFrame."
      ]
    },
    {
      "cell_type": "code",
      "metadata": {
        "colab": {
          "base_uri": "https://localhost:8080/"
        },
        "id": "CqNch_nt46WI",
        "outputId": "d0f0d793-af6f-4fc7-dac2-f9fa6b30cb2b"
      },
      "source": [
        "MAX_SENT = df_num.iloc[-1][\"s_num\"]\n",
        "MAX_SENT"
      ],
      "execution_count": 25,
      "outputs": [
        {
          "output_type": "execute_result",
          "data": {
            "text/plain": [
              "188"
            ]
          },
          "metadata": {},
          "execution_count": 25
        }
      ]
    },
    {
      "cell_type": "markdown",
      "metadata": {
        "id": "qKoN6qw0ur8H"
      },
      "source": [
        "We will split into training and test sets. Before training, we will partition a portion of the training set for validation purposes. \n",
        "\n",
        "As an alternative to cross-validation, I have chosen 7 random seeds to partition the data several different ways. This is what we did for our initial IJAIED submission.  "
      ]
    },
    {
      "cell_type": "code",
      "metadata": {
        "colab": {
          "base_uri": "https://localhost:8080/"
        },
        "id": "BwKeljWRHh-i",
        "outputId": "15ca176c-0725-4b1d-88ab-3aca24206441"
      },
      "source": [
        "import random\n",
        "\n",
        "TEST_PERCENT = 0.25\n",
        "\n",
        "random.seed = seeds[it]\n",
        "\n",
        "test = random.sample(range(0,MAX_SENT+1), int(MAX_SENT * TEST_PERCENT))\n",
        "test[:5]"
      ],
      "execution_count": 26,
      "outputs": [
        {
          "output_type": "execute_result",
          "data": {
            "text/plain": [
              "[126, 17, 118, 110, 53]"
            ]
          },
          "metadata": {},
          "execution_count": 26
        }
      ]
    },
    {
      "cell_type": "markdown",
      "metadata": {
        "id": "fQsJZRT4vxCV"
      },
      "source": [
        "We will break apart the DataFrame into training and test partitions based on the random seed."
      ]
    },
    {
      "cell_type": "code",
      "metadata": {
        "colab": {
          "base_uri": "https://localhost:8080/",
          "height": 206
        },
        "id": "rTErLwzzHiFk",
        "outputId": "d2fc3ce2-37a4-47ba-96a7-d6ae8685a573"
      },
      "source": [
        "df = df_num[~df_num['s_num'].isin(test)]\n",
        "df.head(5)"
      ],
      "execution_count": 27,
      "outputs": [
        {
          "output_type": "execute_result",
          "data": {
            "text/plain": [
              "   s_num     word tag labels\n",
              "0      0     Once   O  ['0']\n",
              "1      0       it   O     -1\n",
              "2      0  reaches   O     -1\n",
              "3      0      the   O     -1\n",
              "4      0   ground   O     -1"
            ],
            "text/html": [
              "\n",
              "  <div id=\"df-3d8935a7-ea02-4cdb-b420-a21ba9674b7c\">\n",
              "    <div class=\"colab-df-container\">\n",
              "      <div>\n",
              "<style scoped>\n",
              "    .dataframe tbody tr th:only-of-type {\n",
              "        vertical-align: middle;\n",
              "    }\n",
              "\n",
              "    .dataframe tbody tr th {\n",
              "        vertical-align: top;\n",
              "    }\n",
              "\n",
              "    .dataframe thead th {\n",
              "        text-align: right;\n",
              "    }\n",
              "</style>\n",
              "<table border=\"1\" class=\"dataframe\">\n",
              "  <thead>\n",
              "    <tr style=\"text-align: right;\">\n",
              "      <th></th>\n",
              "      <th>s_num</th>\n",
              "      <th>word</th>\n",
              "      <th>tag</th>\n",
              "      <th>labels</th>\n",
              "    </tr>\n",
              "  </thead>\n",
              "  <tbody>\n",
              "    <tr>\n",
              "      <th>0</th>\n",
              "      <td>0</td>\n",
              "      <td>Once</td>\n",
              "      <td>O</td>\n",
              "      <td>['0']</td>\n",
              "    </tr>\n",
              "    <tr>\n",
              "      <th>1</th>\n",
              "      <td>0</td>\n",
              "      <td>it</td>\n",
              "      <td>O</td>\n",
              "      <td>-1</td>\n",
              "    </tr>\n",
              "    <tr>\n",
              "      <th>2</th>\n",
              "      <td>0</td>\n",
              "      <td>reaches</td>\n",
              "      <td>O</td>\n",
              "      <td>-1</td>\n",
              "    </tr>\n",
              "    <tr>\n",
              "      <th>3</th>\n",
              "      <td>0</td>\n",
              "      <td>the</td>\n",
              "      <td>O</td>\n",
              "      <td>-1</td>\n",
              "    </tr>\n",
              "    <tr>\n",
              "      <th>4</th>\n",
              "      <td>0</td>\n",
              "      <td>ground</td>\n",
              "      <td>O</td>\n",
              "      <td>-1</td>\n",
              "    </tr>\n",
              "  </tbody>\n",
              "</table>\n",
              "</div>\n",
              "      <button class=\"colab-df-convert\" onclick=\"convertToInteractive('df-3d8935a7-ea02-4cdb-b420-a21ba9674b7c')\"\n",
              "              title=\"Convert this dataframe to an interactive table.\"\n",
              "              style=\"display:none;\">\n",
              "        \n",
              "  <svg xmlns=\"http://www.w3.org/2000/svg\" height=\"24px\"viewBox=\"0 0 24 24\"\n",
              "       width=\"24px\">\n",
              "    <path d=\"M0 0h24v24H0V0z\" fill=\"none\"/>\n",
              "    <path d=\"M18.56 5.44l.94 2.06.94-2.06 2.06-.94-2.06-.94-.94-2.06-.94 2.06-2.06.94zm-11 1L8.5 8.5l.94-2.06 2.06-.94-2.06-.94L8.5 2.5l-.94 2.06-2.06.94zm10 10l.94 2.06.94-2.06 2.06-.94-2.06-.94-.94-2.06-.94 2.06-2.06.94z\"/><path d=\"M17.41 7.96l-1.37-1.37c-.4-.4-.92-.59-1.43-.59-.52 0-1.04.2-1.43.59L10.3 9.45l-7.72 7.72c-.78.78-.78 2.05 0 2.83L4 21.41c.39.39.9.59 1.41.59.51 0 1.02-.2 1.41-.59l7.78-7.78 2.81-2.81c.8-.78.8-2.07 0-2.86zM5.41 20L4 18.59l7.72-7.72 1.47 1.35L5.41 20z\"/>\n",
              "  </svg>\n",
              "      </button>\n",
              "      \n",
              "  <style>\n",
              "    .colab-df-container {\n",
              "      display:flex;\n",
              "      flex-wrap:wrap;\n",
              "      gap: 12px;\n",
              "    }\n",
              "\n",
              "    .colab-df-convert {\n",
              "      background-color: #E8F0FE;\n",
              "      border: none;\n",
              "      border-radius: 50%;\n",
              "      cursor: pointer;\n",
              "      display: none;\n",
              "      fill: #1967D2;\n",
              "      height: 32px;\n",
              "      padding: 0 0 0 0;\n",
              "      width: 32px;\n",
              "    }\n",
              "\n",
              "    .colab-df-convert:hover {\n",
              "      background-color: #E2EBFA;\n",
              "      box-shadow: 0px 1px 2px rgba(60, 64, 67, 0.3), 0px 1px 3px 1px rgba(60, 64, 67, 0.15);\n",
              "      fill: #174EA6;\n",
              "    }\n",
              "\n",
              "    [theme=dark] .colab-df-convert {\n",
              "      background-color: #3B4455;\n",
              "      fill: #D2E3FC;\n",
              "    }\n",
              "\n",
              "    [theme=dark] .colab-df-convert:hover {\n",
              "      background-color: #434B5C;\n",
              "      box-shadow: 0px 1px 3px 1px rgba(0, 0, 0, 0.15);\n",
              "      filter: drop-shadow(0px 1px 2px rgba(0, 0, 0, 0.3));\n",
              "      fill: #FFFFFF;\n",
              "    }\n",
              "  </style>\n",
              "\n",
              "      <script>\n",
              "        const buttonEl =\n",
              "          document.querySelector('#df-3d8935a7-ea02-4cdb-b420-a21ba9674b7c button.colab-df-convert');\n",
              "        buttonEl.style.display =\n",
              "          google.colab.kernel.accessAllowed ? 'block' : 'none';\n",
              "\n",
              "        async function convertToInteractive(key) {\n",
              "          const element = document.querySelector('#df-3d8935a7-ea02-4cdb-b420-a21ba9674b7c');\n",
              "          const dataTable =\n",
              "            await google.colab.kernel.invokeFunction('convertToInteractive',\n",
              "                                                     [key], {});\n",
              "          if (!dataTable) return;\n",
              "\n",
              "          const docLinkHtml = 'Like what you see? Visit the ' +\n",
              "            '<a target=\"_blank\" href=https://colab.research.google.com/notebooks/data_table.ipynb>data table notebook</a>'\n",
              "            + ' to learn more about interactive tables.';\n",
              "          element.innerHTML = '';\n",
              "          dataTable['output_type'] = 'display_data';\n",
              "          await google.colab.output.renderOutput(dataTable, element);\n",
              "          const docLink = document.createElement('div');\n",
              "          docLink.innerHTML = docLinkHtml;\n",
              "          element.appendChild(docLink);\n",
              "        }\n",
              "      </script>\n",
              "    </div>\n",
              "  </div>\n",
              "  "
            ]
          },
          "metadata": {},
          "execution_count": 27
        }
      ]
    },
    {
      "cell_type": "code",
      "metadata": {
        "colab": {
          "base_uri": "https://localhost:8080/",
          "height": 206
        },
        "id": "KIsWMezPHiLZ",
        "outputId": "1a2e9f90-4327-4f65-fa16-905c90fe1823"
      },
      "source": [
        "df_test = df_num[df_num['s_num'].isin(test)]\n",
        "df_test.head(5)"
      ],
      "execution_count": 28,
      "outputs": [
        {
          "output_type": "execute_result",
          "data": {
            "text/plain": [
              "    s_num     word tag labels\n",
              "28      2       It   O  ['0']\n",
              "29      2     very   O     -1\n",
              "30      2   slowly   O     -1\n",
              "31      2  absorbs   O     -1\n",
              "32      2        .   O     -1"
            ],
            "text/html": [
              "\n",
              "  <div id=\"df-90fa87c6-2a8d-4d6b-8551-4b772f1ca66f\">\n",
              "    <div class=\"colab-df-container\">\n",
              "      <div>\n",
              "<style scoped>\n",
              "    .dataframe tbody tr th:only-of-type {\n",
              "        vertical-align: middle;\n",
              "    }\n",
              "\n",
              "    .dataframe tbody tr th {\n",
              "        vertical-align: top;\n",
              "    }\n",
              "\n",
              "    .dataframe thead th {\n",
              "        text-align: right;\n",
              "    }\n",
              "</style>\n",
              "<table border=\"1\" class=\"dataframe\">\n",
              "  <thead>\n",
              "    <tr style=\"text-align: right;\">\n",
              "      <th></th>\n",
              "      <th>s_num</th>\n",
              "      <th>word</th>\n",
              "      <th>tag</th>\n",
              "      <th>labels</th>\n",
              "    </tr>\n",
              "  </thead>\n",
              "  <tbody>\n",
              "    <tr>\n",
              "      <th>28</th>\n",
              "      <td>2</td>\n",
              "      <td>It</td>\n",
              "      <td>O</td>\n",
              "      <td>['0']</td>\n",
              "    </tr>\n",
              "    <tr>\n",
              "      <th>29</th>\n",
              "      <td>2</td>\n",
              "      <td>very</td>\n",
              "      <td>O</td>\n",
              "      <td>-1</td>\n",
              "    </tr>\n",
              "    <tr>\n",
              "      <th>30</th>\n",
              "      <td>2</td>\n",
              "      <td>slowly</td>\n",
              "      <td>O</td>\n",
              "      <td>-1</td>\n",
              "    </tr>\n",
              "    <tr>\n",
              "      <th>31</th>\n",
              "      <td>2</td>\n",
              "      <td>absorbs</td>\n",
              "      <td>O</td>\n",
              "      <td>-1</td>\n",
              "    </tr>\n",
              "    <tr>\n",
              "      <th>32</th>\n",
              "      <td>2</td>\n",
              "      <td>.</td>\n",
              "      <td>O</td>\n",
              "      <td>-1</td>\n",
              "    </tr>\n",
              "  </tbody>\n",
              "</table>\n",
              "</div>\n",
              "      <button class=\"colab-df-convert\" onclick=\"convertToInteractive('df-90fa87c6-2a8d-4d6b-8551-4b772f1ca66f')\"\n",
              "              title=\"Convert this dataframe to an interactive table.\"\n",
              "              style=\"display:none;\">\n",
              "        \n",
              "  <svg xmlns=\"http://www.w3.org/2000/svg\" height=\"24px\"viewBox=\"0 0 24 24\"\n",
              "       width=\"24px\">\n",
              "    <path d=\"M0 0h24v24H0V0z\" fill=\"none\"/>\n",
              "    <path d=\"M18.56 5.44l.94 2.06.94-2.06 2.06-.94-2.06-.94-.94-2.06-.94 2.06-2.06.94zm-11 1L8.5 8.5l.94-2.06 2.06-.94-2.06-.94L8.5 2.5l-.94 2.06-2.06.94zm10 10l.94 2.06.94-2.06 2.06-.94-2.06-.94-.94-2.06-.94 2.06-2.06.94z\"/><path d=\"M17.41 7.96l-1.37-1.37c-.4-.4-.92-.59-1.43-.59-.52 0-1.04.2-1.43.59L10.3 9.45l-7.72 7.72c-.78.78-.78 2.05 0 2.83L4 21.41c.39.39.9.59 1.41.59.51 0 1.02-.2 1.41-.59l7.78-7.78 2.81-2.81c.8-.78.8-2.07 0-2.86zM5.41 20L4 18.59l7.72-7.72 1.47 1.35L5.41 20z\"/>\n",
              "  </svg>\n",
              "      </button>\n",
              "      \n",
              "  <style>\n",
              "    .colab-df-container {\n",
              "      display:flex;\n",
              "      flex-wrap:wrap;\n",
              "      gap: 12px;\n",
              "    }\n",
              "\n",
              "    .colab-df-convert {\n",
              "      background-color: #E8F0FE;\n",
              "      border: none;\n",
              "      border-radius: 50%;\n",
              "      cursor: pointer;\n",
              "      display: none;\n",
              "      fill: #1967D2;\n",
              "      height: 32px;\n",
              "      padding: 0 0 0 0;\n",
              "      width: 32px;\n",
              "    }\n",
              "\n",
              "    .colab-df-convert:hover {\n",
              "      background-color: #E2EBFA;\n",
              "      box-shadow: 0px 1px 2px rgba(60, 64, 67, 0.3), 0px 1px 3px 1px rgba(60, 64, 67, 0.15);\n",
              "      fill: #174EA6;\n",
              "    }\n",
              "\n",
              "    [theme=dark] .colab-df-convert {\n",
              "      background-color: #3B4455;\n",
              "      fill: #D2E3FC;\n",
              "    }\n",
              "\n",
              "    [theme=dark] .colab-df-convert:hover {\n",
              "      background-color: #434B5C;\n",
              "      box-shadow: 0px 1px 3px 1px rgba(0, 0, 0, 0.15);\n",
              "      filter: drop-shadow(0px 1px 2px rgba(0, 0, 0, 0.3));\n",
              "      fill: #FFFFFF;\n",
              "    }\n",
              "  </style>\n",
              "\n",
              "      <script>\n",
              "        const buttonEl =\n",
              "          document.querySelector('#df-90fa87c6-2a8d-4d6b-8551-4b772f1ca66f button.colab-df-convert');\n",
              "        buttonEl.style.display =\n",
              "          google.colab.kernel.accessAllowed ? 'block' : 'none';\n",
              "\n",
              "        async function convertToInteractive(key) {\n",
              "          const element = document.querySelector('#df-90fa87c6-2a8d-4d6b-8551-4b772f1ca66f');\n",
              "          const dataTable =\n",
              "            await google.colab.kernel.invokeFunction('convertToInteractive',\n",
              "                                                     [key], {});\n",
              "          if (!dataTable) return;\n",
              "\n",
              "          const docLinkHtml = 'Like what you see? Visit the ' +\n",
              "            '<a target=\"_blank\" href=https://colab.research.google.com/notebooks/data_table.ipynb>data table notebook</a>'\n",
              "            + ' to learn more about interactive tables.';\n",
              "          element.innerHTML = '';\n",
              "          dataTable['output_type'] = 'display_data';\n",
              "          await google.colab.output.renderOutput(dataTable, element);\n",
              "          const docLink = document.createElement('div');\n",
              "          docLink.innerHTML = docLinkHtml;\n",
              "          element.appendChild(docLink);\n",
              "        }\n",
              "      </script>\n",
              "    </div>\n",
              "  </div>\n",
              "  "
            ]
          },
          "metadata": {},
          "execution_count": 28
        }
      ]
    },
    {
      "cell_type": "markdown",
      "metadata": {
        "id": "bf5UCilrztQH"
      },
      "source": [
        "## Training"
      ]
    },
    {
      "cell_type": "markdown",
      "metadata": {
        "id": "p54kuOGC0K_c"
      },
      "source": [
        "### Prep Instances for Training"
      ]
    },
    {
      "cell_type": "markdown",
      "metadata": {
        "id": "7ZkIEwfiwISy"
      },
      "source": [
        "Now we can use the tokenize function from earlier to tokenize each sentence in our training set for BERT training. We can then separate the texts from the labels."
      ]
    },
    {
      "cell_type": "code",
      "metadata": {
        "id": "9zOMXhTWBPTp"
      },
      "source": [
        "tokenized_texts_and_labels = [tokenize_with_labels(sent, labs) for sent, labs in zip(sents, labels)]"
      ],
      "execution_count": 29,
      "outputs": []
    },
    {
      "cell_type": "code",
      "metadata": {
        "id": "0xRMBKa3BqpZ"
      },
      "source": [
        "tokenized_texts = [token_label_pair[0] for token_label_pair in tokenized_texts_and_labels]\n",
        "labels = [token_label_pair[1] for token_label_pair in tokenized_texts_and_labels]"
      ],
      "execution_count": 30,
      "outputs": []
    },
    {
      "cell_type": "markdown",
      "metadata": {
        "id": "mG8k-O0yyEWu"
      },
      "source": [
        "Define max sequence length and batch size hyperparameters.\n",
        "\n",
        "For this dataset, there are only about 70 training instances with a 25% test set partition. Still, BERT recommends batch sizes of 16 or 32, and 16 seems to work. It will be worth tuning this hyperparameter in particular later on."
      ]
    },
    {
      "cell_type": "code",
      "metadata": {
        "id": "6nJUtf_SLP1e",
        "colab": {
          "base_uri": "https://localhost:8080/"
        },
        "outputId": "e24588a4-a890-4f95-da6e-4aa2076e795a"
      },
      "source": [
        "MAX_LEN = max(map(len, tokenized_texts))\n",
        "BATCH_SIZE = 16\n",
        "\n",
        "print(\"MAX_LEN:\",MAX_LEN)"
      ],
      "execution_count": 31,
      "outputs": [
        {
          "output_type": "stream",
          "name": "stdout",
          "text": [
            "MAX_LEN: 63\n"
          ]
        }
      ]
    },
    {
      "cell_type": "markdown",
      "metadata": {
        "id": "5r9of4RX0yed"
      },
      "source": [
        "Map individual BERT tokens to their corresponding IDs in BERT's vocabulary."
      ]
    },
    {
      "cell_type": "code",
      "metadata": {
        "id": "llX95hrZBxUA"
      },
      "source": [
        "input_ids = pad_sequences([tokenizer.convert_tokens_to_ids(txt) for txt in tokenized_texts],\n",
        "                          maxlen=MAX_LEN, dtype=\"long\", value=0.0,\n",
        "                          truncating=\"post\", padding=\"post\")"
      ],
      "execution_count": 32,
      "outputs": []
    },
    {
      "cell_type": "markdown",
      "metadata": {
        "id": "7wnsPbcY1Iqn"
      },
      "source": [
        "Get the tags array, complete with padding. ```pad_sequences``` is provided by Keras."
      ]
    },
    {
      "cell_type": "code",
      "metadata": {
        "id": "8xyx6SrFB3YG"
      },
      "source": [
        "tags = pad_sequences([[tag2idx.get(l) for l in lab] for lab in labels],\n",
        "                     maxlen=MAX_LEN, value=tag2idx[\"PAD\"], padding=\"post\",\n",
        "                     dtype=\"long\", truncating=\"post\")"
      ],
      "execution_count": 33,
      "outputs": []
    },
    {
      "cell_type": "markdown",
      "metadata": {
        "id": "h8KVrCqL1X4p"
      },
      "source": [
        "Prep the attention masks. They will start at 0."
      ]
    },
    {
      "cell_type": "code",
      "metadata": {
        "id": "Fl4a3NmiB5uy"
      },
      "source": [
        "attention_masks = [[float(i != 0.0) for i in ii] for ii in input_ids]"
      ],
      "execution_count": 34,
      "outputs": []
    },
    {
      "cell_type": "markdown",
      "metadata": {
        "id": "Wwz85qc11vTO"
      },
      "source": [
        "Split the inputs, tags, and masks into training and validation partitions."
      ]
    },
    {
      "cell_type": "code",
      "metadata": {
        "id": "jlRsLmscB8Lt"
      },
      "source": [
        "tr_inputs, val_inputs, tr_tags, val_tags = train_test_split(input_ids, tags,\n",
        "                                                            random_state=seeds[it], test_size=0.1)\n",
        "tr_masks, val_masks, _, _ = train_test_split(attention_masks, input_ids,\n",
        "                                             random_state=seeds[it], test_size=0.1)"
      ],
      "execution_count": 35,
      "outputs": []
    },
    {
      "cell_type": "markdown",
      "metadata": {
        "id": "kuUXea8M13Qw"
      },
      "source": [
        "Tensorize inputs."
      ]
    },
    {
      "cell_type": "code",
      "metadata": {
        "id": "vEZZ7LDhB_fT"
      },
      "source": [
        "tr_inputs = torch.tensor(tr_inputs)\n",
        "val_inputs = torch.tensor(val_inputs)\n",
        "tr_tags = torch.tensor(tr_tags)\n",
        "val_tags = torch.tensor(val_tags)\n",
        "tr_masks = torch.tensor(tr_masks)\n",
        "val_masks = torch.tensor(val_masks)"
      ],
      "execution_count": 36,
      "outputs": []
    },
    {
      "cell_type": "markdown",
      "metadata": {
        "id": "uCaE47Wo15G0"
      },
      "source": [
        "Create training and validation dataloaders."
      ]
    },
    {
      "cell_type": "code",
      "metadata": {
        "id": "Rr8QJQxoCC5k"
      },
      "source": [
        "train_data = TensorDataset(tr_inputs, tr_masks, tr_tags)\n",
        "train_sampler = RandomSampler(train_data)\n",
        "train_dataloader = DataLoader(train_data, sampler=train_sampler, batch_size=BATCH_SIZE)\n",
        "\n",
        "valid_data = TensorDataset(val_inputs, val_masks, val_tags)\n",
        "valid_sampler = SequentialSampler(valid_data)\n",
        "valid_dataloader = DataLoader(valid_data, sampler=valid_sampler, batch_size=BATCH_SIZE)"
      ],
      "execution_count": 37,
      "outputs": []
    },
    {
      "cell_type": "markdown",
      "metadata": {
        "id": "whmFRifG1-_q"
      },
      "source": [
        "### Prep Model for Training"
      ]
    },
    {
      "cell_type": "markdown",
      "metadata": {
        "id": "GxrG54p22DMh"
      },
      "source": [
        "We can use the off-the-shelf Transformers BERT implementation provided specifically for tokenization tasks such as POS, NER, etc.\n",
        "\n",
        "We will also grab the Adam optimizer, which is standard but is also an additional hyperparameter capable of being tuned. "
      ]
    },
    {
      "cell_type": "code",
      "metadata": {
        "id": "O3pSx7aHCJTg",
        "colab": {
          "base_uri": "https://localhost:8080/",
          "height": 36
        },
        "outputId": "c331d526-bbb2-48df-a1e1-05f070999a0c"
      },
      "source": [
        "import transformers\n",
        "from transformers import BertForTokenClassification, AdamW\n",
        "\n",
        "transformers.__version__"
      ],
      "execution_count": 38,
      "outputs": [
        {
          "output_type": "execute_result",
          "data": {
            "text/plain": [
              "'4.23.1'"
            ],
            "application/vnd.google.colaboratory.intrinsic+json": {
              "type": "string"
            }
          },
          "metadata": {},
          "execution_count": 38
        }
      ]
    },
    {
      "cell_type": "markdown",
      "metadata": {
        "id": "e8xQqAb82ZL-"
      },
      "source": [
        "Instantiate the model and move it to the GPU."
      ]
    },
    {
      "cell_type": "code",
      "metadata": {
        "colab": {
          "base_uri": "https://localhost:8080/",
          "height": 160,
          "referenced_widgets": [
            "a4c3491b2dff4f6bbac039f381f58531",
            "bd4758ceba7d4eb590d6aa7553efa4a5",
            "6b0d5fe2e6494adda189ee655cb1f860",
            "f92701289ab1408683b1426c3a0c806f",
            "b6d98ff36d104d66914600365e0f4951",
            "67a265f8d259404ea9d5ec4462dbbdbf",
            "86c8c46b67944128b5f3f491d636e14b",
            "3f53ae7fd6984e99b5d670e67abc5364",
            "3640b222d7fd488e9c5891576ff91d9c",
            "47378dae06e34e8ea257b890a02a2325",
            "f54e202ffdc746feba75c78e59400ccd"
          ]
        },
        "id": "T2yo0trXukl5",
        "outputId": "706b114c-ee47-4deb-d6a5-deb770455efa"
      },
      "source": [
        "model = BertForTokenClassification.from_pretrained(\n",
        "    \"bert-base-cased\",\n",
        "    num_labels=len(tag2idx),\n",
        "    output_attentions = False,\n",
        "    output_hidden_states = False\n",
        ");"
      ],
      "execution_count": 39,
      "outputs": [
        {
          "output_type": "display_data",
          "data": {
            "text/plain": [
              "Downloading:   0%|          | 0.00/436M [00:00<?, ?B/s]"
            ],
            "application/vnd.jupyter.widget-view+json": {
              "version_major": 2,
              "version_minor": 0,
              "model_id": "a4c3491b2dff4f6bbac039f381f58531"
            }
          },
          "metadata": {}
        },
        {
          "output_type": "stream",
          "name": "stderr",
          "text": [
            "Some weights of the model checkpoint at bert-base-cased were not used when initializing BertForTokenClassification: ['cls.predictions.decoder.weight', 'cls.predictions.transform.LayerNorm.bias', 'cls.seq_relationship.weight', 'cls.predictions.transform.LayerNorm.weight', 'cls.seq_relationship.bias', 'cls.predictions.bias', 'cls.predictions.transform.dense.weight', 'cls.predictions.transform.dense.bias']\n",
            "- This IS expected if you are initializing BertForTokenClassification from the checkpoint of a model trained on another task or with another architecture (e.g. initializing a BertForSequenceClassification model from a BertForPreTraining model).\n",
            "- This IS NOT expected if you are initializing BertForTokenClassification from the checkpoint of a model that you expect to be exactly identical (initializing a BertForSequenceClassification model from a BertForSequenceClassification model).\n",
            "Some weights of BertForTokenClassification were not initialized from the model checkpoint at bert-base-cased and are newly initialized: ['classifier.weight', 'classifier.bias']\n",
            "You should probably TRAIN this model on a down-stream task to be able to use it for predictions and inference.\n"
          ]
        }
      ]
    },
    {
      "cell_type": "code",
      "metadata": {
        "id": "f_ZXziPDum8r"
      },
      "source": [
        "model.cuda();"
      ],
      "execution_count": 40,
      "outputs": []
    },
    {
      "cell_type": "markdown",
      "metadata": {
        "id": "pv9WX5YY2th9"
      },
      "source": [
        "Learing rate and whether or not we are doing fine-tuning are defined as constants."
      ]
    },
    {
      "cell_type": "code",
      "metadata": {
        "id": "YiGZwZcr2w55"
      },
      "source": [
        "FULL_FINETUNING = True\n",
        "LEARNING_RATE = 3e-5"
      ],
      "execution_count": 41,
      "outputs": []
    },
    {
      "cell_type": "markdown",
      "metadata": {
        "id": "SEuve_pk2gLw"
      },
      "source": [
        "Optimizer is instantiated for training."
      ]
    },
    {
      "cell_type": "code",
      "metadata": {
        "id": "xya6FBc0urfm",
        "colab": {
          "base_uri": "https://localhost:8080/"
        },
        "outputId": "020dbbe8-8bff-404b-dd4a-9a40fb17fdf9"
      },
      "source": [
        "if FULL_FINETUNING:\n",
        "    param_optimizer = list(model.named_parameters())\n",
        "    no_decay = ['bias', 'gamma', 'beta']\n",
        "    optimizer_grouped_parameters = [\n",
        "        {'params': [p for n, p in param_optimizer if not any(nd in n for nd in no_decay)],\n",
        "         'weight_decay_rate': 0.01},\n",
        "        {'params': [p for n, p in param_optimizer if any(nd in n for nd in no_decay)],\n",
        "         'weight_decay_rate': 0.0}\n",
        "    ]\n",
        "else:\n",
        "    param_optimizer = list(model.classifier.named_parameters())\n",
        "    optimizer_grouped_parameters = [{\"params\": [p for n, p in param_optimizer]}]\n",
        "\n",
        "optimizer = AdamW(\n",
        "    optimizer_grouped_parameters,\n",
        "    lr=LEARNING_RATE,\n",
        "    eps=1e-8\n",
        ")"
      ],
      "execution_count": 42,
      "outputs": [
        {
          "output_type": "stream",
          "name": "stderr",
          "text": [
            "/usr/local/lib/python3.7/dist-packages/transformers/optimization.py:310: FutureWarning: This implementation of AdamW is deprecated and will be removed in a future version. Use the PyTorch implementation torch.optim.AdamW instead, or set `no_deprecation_warning=True` to disable this warning\n",
            "  FutureWarning,\n"
          ]
        }
      ]
    },
    {
      "cell_type": "markdown",
      "metadata": {
        "id": "E6OdoUul5fFg"
      },
      "source": [
        "Learning rate scheduler setup along with EPOCHS hyperparameter constant. This code was adopted from the TDS source listed above."
      ]
    },
    {
      "cell_type": "code",
      "metadata": {
        "id": "oVF2DovXuuU9"
      },
      "source": [
        "from transformers import get_linear_schedule_with_warmup\n",
        "\n",
        "EPOCHS = 8\n",
        "\n",
        "max_grad_norm = 1.0\n",
        "\n",
        "# Total number of training steps is number of batches * number of epochs.\n",
        "total_steps = len(train_dataloader) * EPOCHS\n",
        "\n",
        "# Create the learning rate scheduler.\n",
        "scheduler = get_linear_schedule_with_warmup(\n",
        "    optimizer,\n",
        "    num_warmup_steps=0,\n",
        "    num_training_steps=total_steps\n",
        ")"
      ],
      "execution_count": 43,
      "outputs": []
    },
    {
      "cell_type": "markdown",
      "metadata": {
        "id": "CXO2eKRv2eKy"
      },
      "source": [
        "### Perform Training"
      ]
    },
    {
      "cell_type": "markdown",
      "metadata": {
        "id": "ZcqR1iPG5uJn"
      },
      "source": [
        "We need to install the seqeval library for evaluation purposes."
      ]
    },
    {
      "cell_type": "code",
      "metadata": {
        "colab": {
          "base_uri": "https://localhost:8080/"
        },
        "id": "NUGHNWVFuwLp",
        "outputId": "9154422d-c923-4832-9633-4c1b40a103f0"
      },
      "source": [
        "!pip install seqeval\n",
        "from seqeval.metrics import f1_score, accuracy_score"
      ],
      "execution_count": 44,
      "outputs": [
        {
          "output_type": "stream",
          "name": "stdout",
          "text": [
            "Looking in indexes: https://pypi.org/simple, https://us-python.pkg.dev/colab-wheels/public/simple/\n",
            "\u001b[33mWARNING: Retrying (Retry(total=4, connect=None, read=None, redirect=None, status=None)) after connection broken by 'ReadTimeoutError(\"HTTPSConnectionPool(host='pypi.org', port=443): Read timed out. (read timeout=15)\")': /simple/seqeval/\u001b[0m\n",
            "Collecting seqeval\n",
            "  Downloading seqeval-1.2.2.tar.gz (43 kB)\n",
            "\u001b[K     |████████████████████████████████| 43 kB 1.6 MB/s \n",
            "\u001b[?25hRequirement already satisfied: numpy>=1.14.0 in /usr/local/lib/python3.7/dist-packages (from seqeval) (1.21.6)\n",
            "Requirement already satisfied: scikit-learn>=0.21.3 in /usr/local/lib/python3.7/dist-packages (from seqeval) (1.0.2)\n",
            "Requirement already satisfied: threadpoolctl>=2.0.0 in /usr/local/lib/python3.7/dist-packages (from scikit-learn>=0.21.3->seqeval) (3.1.0)\n",
            "Requirement already satisfied: scipy>=1.1.0 in /usr/local/lib/python3.7/dist-packages (from scikit-learn>=0.21.3->seqeval) (1.7.3)\n",
            "Requirement already satisfied: joblib>=0.11 in /usr/local/lib/python3.7/dist-packages (from scikit-learn>=0.21.3->seqeval) (1.2.0)\n",
            "Building wheels for collected packages: seqeval\n",
            "  Building wheel for seqeval (setup.py) ... \u001b[?25l\u001b[?25hdone\n",
            "  Created wheel for seqeval: filename=seqeval-1.2.2-py3-none-any.whl size=16180 sha256=393edc19f0feb07a08ed49b27bf6cf2c738b47b541ab30b7aee5e158becc654e\n",
            "  Stored in directory: /root/.cache/pip/wheels/05/96/ee/7cac4e74f3b19e3158dce26a20a1c86b3533c43ec72a549fd7\n",
            "Successfully built seqeval\n",
            "Installing collected packages: seqeval\n",
            "Successfully installed seqeval-1.2.2\n"
          ]
        }
      ]
    },
    {
      "cell_type": "markdown",
      "metadata": {
        "id": "9oxX488c5zGn"
      },
      "source": [
        "This is the actual training. We will use TQDM to see our progress as we go. This code also adopted from TDS source."
      ]
    },
    {
      "cell_type": "markdown",
      "metadata": {
        "id": "GnXszj1E6UxD"
      },
      "source": [
        "Additionally, we will evaluate our training on the validation data."
      ]
    },
    {
      "cell_type": "code",
      "metadata": {
        "colab": {
          "base_uri": "https://localhost:8080/"
        },
        "id": "Mzj6nA8Quz6r",
        "outputId": "a878a5dd-9fd4-4476-e385-afc1bd206e6c"
      },
      "source": [
        "from tqdm import tqdm, trange\n",
        "\n",
        "## Store the average loss after each epoch so we can plot them.\n",
        "loss_values, validation_loss_values = [], []\n",
        "\n",
        "for _ in trange(EPOCHS, desc=\"Epoch\"):\n",
        "    # ========================================\n",
        "    #               Training\n",
        "    # ========================================\n",
        "    # Perform one full pass over the training set.\n",
        "\n",
        "    # Put the model into training mode.\n",
        "    model.train()\n",
        "    # Reset the total loss for this epoch.\n",
        "    total_loss = 0\n",
        "\n",
        "    # Training loop\n",
        "    for step, batch in enumerate(train_dataloader):\n",
        "        # add batch to gpu\n",
        "        batch = tuple(t.to(device) for t in batch)\n",
        "        b_input_ids, b_input_mask, b_labels = batch\n",
        "        # Always clear any previously calculated gradients before performing a backward pass.\n",
        "        model.zero_grad()\n",
        "        # forward pass\n",
        "        # This will return the loss (rather than the model output)\n",
        "        # because we have provided the `labels`.\n",
        "        outputs = model(b_input_ids, token_type_ids=None,\n",
        "                        attention_mask=b_input_mask, labels=b_labels)\n",
        "        # get the loss\n",
        "        loss = outputs[0]\n",
        "        # Perform a backward pass to calculate the gradients.\n",
        "        loss.backward()\n",
        "        # track train loss\n",
        "        total_loss += loss.item()\n",
        "        # Clip the norm of the gradient\n",
        "        # This is to help prevent the \"exploding gradients\" problem.\n",
        "        torch.nn.utils.clip_grad_norm_(parameters=model.parameters(), max_norm=max_grad_norm)\n",
        "        # update parameters\n",
        "        optimizer.step()\n",
        "        # Update the learning rate.\n",
        "        scheduler.step()\n",
        "\n",
        "    # Calculate the average loss over the training data.\n",
        "    avg_train_loss = total_loss / len(train_dataloader)\n",
        "    print(\"Average train loss: {}\".format(avg_train_loss))\n",
        "\n",
        "    # Store the loss value for plotting the learning curve.\n",
        "    loss_values.append(avg_train_loss)\n",
        "\n",
        "\n",
        "    # ========================================\n",
        "    #               Validation\n",
        "    # ========================================\n",
        "    # After the completion of each training epoch, measure our performance on\n",
        "    # our validation set.\n",
        "\n",
        "    # Put the model into evaluation mode\n",
        "    model.eval()\n",
        "    # Reset the validation loss for this epoch.\n",
        "    eval_loss, eval_accuracy = 0, 0\n",
        "    nb_eval_steps, nb_eval_examples = 0, 0\n",
        "    predictions , true_labels = [], []\n",
        "    for batch in valid_dataloader:\n",
        "        batch = tuple(t.to(device) for t in batch)\n",
        "        b_input_ids, b_input_mask, b_labels = batch\n",
        "\n",
        "        # Telling the model not to compute or store gradients,\n",
        "        # saving memory and speeding up validation\n",
        "        with torch.no_grad():\n",
        "            # Forward pass, calculate logit predictions.\n",
        "            # This will return the logits rather than the loss because we have not provided labels.\n",
        "            outputs = model(b_input_ids, token_type_ids=None,\n",
        "                            attention_mask=b_input_mask, labels=b_labels)\n",
        "        # Move logits and labels to CPU\n",
        "        logits = outputs[1].detach().cpu().numpy()\n",
        "        label_ids = b_labels.to('cpu').numpy()\n",
        "\n",
        "        # Calculate the accuracy for this batch of test sentences.\n",
        "        eval_loss += outputs[0].mean().item()\n",
        "        predictions.extend([list(p) for p in np.argmax(logits, axis=2)])\n",
        "        true_labels.extend(label_ids)\n",
        "\n",
        "    eval_loss = eval_loss / len(valid_dataloader)\n",
        "    validation_loss_values.append(eval_loss)\n",
        "    print(\"Validation loss: {}\".format(eval_loss))\n",
        "    pred_tags = [tag_values[p_i] for p, l in zip(predictions, true_labels)\n",
        "                                 for p_i, l_i in zip(p, l) if tag_values[l_i] != \"PAD\"]\n",
        "    valid_tags = [tag_values[l_i] for l in true_labels\n",
        "                                  for l_i in l if tag_values[l_i] != \"PAD\"]\n",
        "    print(\"Validation Accuracy: {}\".format(accuracy_score(valid_tags, pred_tags)))\n",
        "    print()"
      ],
      "execution_count": 45,
      "outputs": [
        {
          "output_type": "stream",
          "name": "stderr",
          "text": [
            "Epoch:  12%|█▎        | 1/8 [00:04<00:34,  4.93s/it]"
          ]
        },
        {
          "output_type": "stream",
          "name": "stdout",
          "text": [
            "Average train loss: 0.6056312620639801\n",
            "Validation loss: 0.39840443432331085\n",
            "Validation Accuracy: 0.577922077922078\n",
            "\n"
          ]
        },
        {
          "output_type": "stream",
          "name": "stderr",
          "text": [
            "\rEpoch:  25%|██▌       | 2/8 [00:07<00:20,  3.36s/it]"
          ]
        },
        {
          "output_type": "stream",
          "name": "stdout",
          "text": [
            "Average train loss: 0.2780876647342335\n",
            "Validation loss: 0.12529423832893372\n",
            "Validation Accuracy: 0.8311688311688312\n",
            "\n"
          ]
        },
        {
          "output_type": "stream",
          "name": "stderr",
          "text": [
            "\rEpoch:  38%|███▊      | 3/8 [00:09<00:14,  2.86s/it]"
          ]
        },
        {
          "output_type": "stream",
          "name": "stdout",
          "text": [
            "Average train loss: 0.11374825171448967\n",
            "Validation loss: 0.04844203591346741\n",
            "Validation Accuracy: 0.9253246753246753\n",
            "\n"
          ]
        },
        {
          "output_type": "stream",
          "name": "stderr",
          "text": [
            "\rEpoch:  50%|█████     | 4/8 [00:11<00:10,  2.62s/it]"
          ]
        },
        {
          "output_type": "stream",
          "name": "stdout",
          "text": [
            "Average train loss: 0.05734641291201115\n",
            "Validation loss: 0.02385651972144842\n",
            "Validation Accuracy: 0.961038961038961\n",
            "\n"
          ]
        },
        {
          "output_type": "stream",
          "name": "stderr",
          "text": [
            "\rEpoch:  62%|██████▎   | 5/8 [00:13<00:07,  2.50s/it]"
          ]
        },
        {
          "output_type": "stream",
          "name": "stdout",
          "text": [
            "Average train loss: 0.034856986085122284\n",
            "Validation loss: 0.0181444538757205\n",
            "Validation Accuracy: 0.9675324675324676\n",
            "\n"
          ]
        },
        {
          "output_type": "stream",
          "name": "stderr",
          "text": [
            "\rEpoch:  75%|███████▌  | 6/8 [00:16<00:04,  2.42s/it]"
          ]
        },
        {
          "output_type": "stream",
          "name": "stdout",
          "text": [
            "Average train loss: 0.023945114321329376\n",
            "Validation loss: 0.01935699419118464\n",
            "Validation Accuracy: 0.9642857142857143\n",
            "\n"
          ]
        },
        {
          "output_type": "stream",
          "name": "stderr",
          "text": [
            "\rEpoch:  88%|████████▊ | 7/8 [00:18<00:02,  2.38s/it]"
          ]
        },
        {
          "output_type": "stream",
          "name": "stdout",
          "text": [
            "Average train loss: 0.01976166902617975\n",
            "Validation loss: 0.018637280678376555\n",
            "Validation Accuracy: 0.9675324675324676\n",
            "\n"
          ]
        },
        {
          "output_type": "stream",
          "name": "stderr",
          "text": [
            "Epoch: 100%|██████████| 8/8 [00:20<00:00,  2.60s/it]"
          ]
        },
        {
          "output_type": "stream",
          "name": "stdout",
          "text": [
            "Average train loss: 0.017737952484325928\n",
            "Validation loss: 0.0190418268321082\n",
            "Validation Accuracy: 0.9642857142857143\n",
            "\n"
          ]
        },
        {
          "output_type": "stream",
          "name": "stderr",
          "text": [
            "\n"
          ]
        }
      ]
    },
    {
      "cell_type": "markdown",
      "metadata": {
        "id": "3h1Psf9P6E0N"
      },
      "source": [
        "### Training Evaluation"
      ]
    },
    {
      "cell_type": "markdown",
      "metadata": {
        "id": "sMrnsm_l6G6r"
      },
      "source": [
        "Graph training and validation loss. Code adopted from TDS source."
      ]
    },
    {
      "cell_type": "code",
      "metadata": {
        "colab": {
          "base_uri": "https://localhost:8080/",
          "height": 427
        },
        "id": "jg-3XjEmu54D",
        "outputId": "630c846d-cde6-441c-99ad-b7314e957b99"
      },
      "source": [
        "import matplotlib.pyplot as plt\n",
        "%matplotlib inline\n",
        "\n",
        "import seaborn as sns\n",
        "\n",
        "# Use plot styling from seaborn.\n",
        "sns.set(style='darkgrid')\n",
        "\n",
        "# Increase the plot size and font size.\n",
        "sns.set(font_scale=1.5)\n",
        "plt.rcParams[\"figure.figsize\"] = (12,6)\n",
        "\n",
        "# Plot the learning curve.\n",
        "plt.plot(loss_values, 'b-o', label=\"training loss\")\n",
        "plt.plot(validation_loss_values, 'r-o', label=\"validation loss\")\n",
        "\n",
        "# Label the plot.\n",
        "plt.title(\"Learning curve\")\n",
        "plt.xlabel(\"Epoch\")\n",
        "plt.ylabel(\"Loss\")\n",
        "plt.legend()\n",
        "\n",
        "plt.show()"
      ],
      "execution_count": 46,
      "outputs": [
        {
          "output_type": "display_data",
          "data": {
            "text/plain": [
              "<Figure size 864x432 with 1 Axes>"
            ],
            "image/png": "[encoded data removed]"
          },
          "metadata": {}
        }
      ]
    },
    {
      "cell_type": "markdown",
      "metadata": {
        "id": "AatYiJXS6O6b"
      },
      "source": [
        "Examine performance metrics from training (via validation data)."
      ]
    },
    {
      "cell_type": "code",
      "metadata": {
        "colab": {
          "base_uri": "https://localhost:8080/"
        },
        "id": "yuj-nN1Ou93D",
        "outputId": "81ab7762-55f4-473d-a017-cfc5befe6d4b"
      },
      "source": [
        "from sklearn.metrics import classification_report, confusion_matrix\n",
        "print(classification_report(valid_tags, pred_tags))"
      ],
      "execution_count": 47,
      "outputs": [
        {
          "output_type": "stream",
          "name": "stdout",
          "text": [
            "              precision    recall  f1-score   support\n",
            "\n",
            "  AMOUNT-1-1       0.91      0.79      0.85        39\n",
            "           O       0.97      0.99      0.98       269\n",
            "\n",
            "    accuracy                           0.96       308\n",
            "   macro avg       0.94      0.89      0.91       308\n",
            "weighted avg       0.96      0.96      0.96       308\n",
            "\n"
          ]
        }
      ]
    },
    {
      "cell_type": "markdown",
      "metadata": {
        "id": "PQd5Jgy46nc9"
      },
      "source": [
        "Examine confusion matrix from training (via validation data)."
      ]
    },
    {
      "cell_type": "code",
      "metadata": {
        "id": "2R26_8rxvCb8"
      },
      "source": [
        "# import seaborn as sns\n",
        "\n",
        "# cf_matrix = confusion_matrix(valid_tags, pred_tags)\n",
        "# group_names = [\"True Neg\",\"False Pos\",\"False Neg\",\"True Pos\"]\n",
        "# group_counts = [\"{0:0.0f}\".format(value) for value in cf_matrix.flatten()]\n",
        "# group_percentages = [\"{0:.2%}\".format(value) for value in cf_matrix.flatten()/np.sum(cf_matrix)]\n",
        "# t_labels = [f\"{v1}\\n{v2}\\n{v3}\" for v1, v2, v3 in zip(group_names,group_counts,group_percentages)]\n",
        "# t_labels = np.asarray(t_labels).reshape(2,2)\n",
        "# sns.heatmap(cf_matrix, annot=t_labels, fmt='', cmap='Blues')"
      ],
      "execution_count": 48,
      "outputs": []
    },
    {
      "cell_type": "markdown",
      "metadata": {
        "id": "4YDN1W3mz1Px"
      },
      "source": [
        "## Testing"
      ]
    },
    {
      "cell_type": "markdown",
      "metadata": {
        "id": "qUhpuS3Np7wq"
      },
      "source": [
        "### Prep Testing"
      ]
    },
    {
      "cell_type": "markdown",
      "metadata": {
        "id": "gCVIv6baqAJM"
      },
      "source": [
        "First we will create the test set DataFrame. This is based on the random indexes generated earlier that were not used for training. \n",
        "\n",
        "We also need to get rid of the NaNs and set the sentence numbers for reference."
      ]
    },
    {
      "cell_type": "code",
      "metadata": {
        "colab": {
          "base_uri": "https://localhost:8080/",
          "height": 408
        },
        "id": "5wRNmJVO3Hbr",
        "outputId": "3e05e22f-f404-472e-da81-dcbbf780126b"
      },
      "source": [
        "df_test = df_test.copy(deep=True)\n",
        "df_test.iloc[0][\"sent\"] = 0\n",
        "df_test.columns = [\"s_num\",\"word\",\"tag\", \"labels\"]\n",
        "df_test = df_test.fillna(-1)\n",
        "\n",
        "snum = -1\n",
        "for idx, row in df_test.iterrows():\n",
        "  if row[\"s_num\"] == -1: row[\"s_num\"] = snum\n",
        "  else: \n",
        "    snum += 1\n",
        "    row[\"s_num\"] = snum\n",
        "\n",
        "df_test.head(5)"
      ],
      "execution_count": 49,
      "outputs": [
        {
          "output_type": "stream",
          "name": "stderr",
          "text": [
            "/usr/local/lib/python3.7/dist-packages/pandas/core/series.py:1056: SettingWithCopyWarning: \n",
            "A value is trying to be set on a copy of a slice from a DataFrame\n",
            "\n",
            "See the caveats in the documentation: https://pandas.pydata.org/pandas-docs/stable/user_guide/indexing.html#returning-a-view-versus-a-copy\n",
            "  cacher_needs_updating = self._check_is_chained_assignment_possible()\n",
            "/usr/local/lib/python3.7/dist-packages/pandas/core/indexing.py:1724: SettingWithCopyWarning: \n",
            "A value is trying to be set on a copy of a slice from a DataFrame\n",
            "\n",
            "See the caveats in the documentation: https://pandas.pydata.org/pandas-docs/stable/user_guide/indexing.html#returning-a-view-versus-a-copy\n",
            "  self._setitem_with_indexer_missing(indexer, value)\n"
          ]
        },
        {
          "output_type": "execute_result",
          "data": {
            "text/plain": [
              "    s_num     word tag labels\n",
              "28      2       It   O  ['0']\n",
              "29      2     very   O     -1\n",
              "30      2   slowly   O     -1\n",
              "31      2  absorbs   O     -1\n",
              "32      2        .   O     -1"
            ],
            "text/html": [
              "\n",
              "  <div id=\"df-3e39f3b6-0a76-4ce5-835c-0dac3092ee94\">\n",
              "    <div class=\"colab-df-container\">\n",
              "      <div>\n",
              "<style scoped>\n",
              "    .dataframe tbody tr th:only-of-type {\n",
              "        vertical-align: middle;\n",
              "    }\n",
              "\n",
              "    .dataframe tbody tr th {\n",
              "        vertical-align: top;\n",
              "    }\n",
              "\n",
              "    .dataframe thead th {\n",
              "        text-align: right;\n",
              "    }\n",
              "</style>\n",
              "<table border=\"1\" class=\"dataframe\">\n",
              "  <thead>\n",
              "    <tr style=\"text-align: right;\">\n",
              "      <th></th>\n",
              "      <th>s_num</th>\n",
              "      <th>word</th>\n",
              "      <th>tag</th>\n",
              "      <th>labels</th>\n",
              "    </tr>\n",
              "  </thead>\n",
              "  <tbody>\n",
              "    <tr>\n",
              "      <th>28</th>\n",
              "      <td>2</td>\n",
              "      <td>It</td>\n",
              "      <td>O</td>\n",
              "      <td>['0']</td>\n",
              "    </tr>\n",
              "    <tr>\n",
              "      <th>29</th>\n",
              "      <td>2</td>\n",
              "      <td>very</td>\n",
              "      <td>O</td>\n",
              "      <td>-1</td>\n",
              "    </tr>\n",
              "    <tr>\n",
              "      <th>30</th>\n",
              "      <td>2</td>\n",
              "      <td>slowly</td>\n",
              "      <td>O</td>\n",
              "      <td>-1</td>\n",
              "    </tr>\n",
              "    <tr>\n",
              "      <th>31</th>\n",
              "      <td>2</td>\n",
              "      <td>absorbs</td>\n",
              "      <td>O</td>\n",
              "      <td>-1</td>\n",
              "    </tr>\n",
              "    <tr>\n",
              "      <th>32</th>\n",
              "      <td>2</td>\n",
              "      <td>.</td>\n",
              "      <td>O</td>\n",
              "      <td>-1</td>\n",
              "    </tr>\n",
              "  </tbody>\n",
              "</table>\n",
              "</div>\n",
              "      <button class=\"colab-df-convert\" onclick=\"convertToInteractive('df-3e39f3b6-0a76-4ce5-835c-0dac3092ee94')\"\n",
              "              title=\"Convert this dataframe to an interactive table.\"\n",
              "              style=\"display:none;\">\n",
              "        \n",
              "  <svg xmlns=\"http://www.w3.org/2000/svg\" height=\"24px\"viewBox=\"0 0 24 24\"\n",
              "       width=\"24px\">\n",
              "    <path d=\"M0 0h24v24H0V0z\" fill=\"none\"/>\n",
              "    <path d=\"M18.56 5.44l.94 2.06.94-2.06 2.06-.94-2.06-.94-.94-2.06-.94 2.06-2.06.94zm-11 1L8.5 8.5l.94-2.06 2.06-.94-2.06-.94L8.5 2.5l-.94 2.06-2.06.94zm10 10l.94 2.06.94-2.06 2.06-.94-2.06-.94-.94-2.06-.94 2.06-2.06.94z\"/><path d=\"M17.41 7.96l-1.37-1.37c-.4-.4-.92-.59-1.43-.59-.52 0-1.04.2-1.43.59L10.3 9.45l-7.72 7.72c-.78.78-.78 2.05 0 2.83L4 21.41c.39.39.9.59 1.41.59.51 0 1.02-.2 1.41-.59l7.78-7.78 2.81-2.81c.8-.78.8-2.07 0-2.86zM5.41 20L4 18.59l7.72-7.72 1.47 1.35L5.41 20z\"/>\n",
              "  </svg>\n",
              "      </button>\n",
              "      \n",
              "  <style>\n",
              "    .colab-df-container {\n",
              "      display:flex;\n",
              "      flex-wrap:wrap;\n",
              "      gap: 12px;\n",
              "    }\n",
              "\n",
              "    .colab-df-convert {\n",
              "      background-color: #E8F0FE;\n",
              "      border: none;\n",
              "      border-radius: 50%;\n",
              "      cursor: pointer;\n",
              "      display: none;\n",
              "      fill: #1967D2;\n",
              "      height: 32px;\n",
              "      padding: 0 0 0 0;\n",
              "      width: 32px;\n",
              "    }\n",
              "\n",
              "    .colab-df-convert:hover {\n",
              "      background-color: #E2EBFA;\n",
              "      box-shadow: 0px 1px 2px rgba(60, 64, 67, 0.3), 0px 1px 3px 1px rgba(60, 64, 67, 0.15);\n",
              "      fill: #174EA6;\n",
              "    }\n",
              "\n",
              "    [theme=dark] .colab-df-convert {\n",
              "      background-color: #3B4455;\n",
              "      fill: #D2E3FC;\n",
              "    }\n",
              "\n",
              "    [theme=dark] .colab-df-convert:hover {\n",
              "      background-color: #434B5C;\n",
              "      box-shadow: 0px 1px 3px 1px rgba(0, 0, 0, 0.15);\n",
              "      filter: drop-shadow(0px 1px 2px rgba(0, 0, 0, 0.3));\n",
              "      fill: #FFFFFF;\n",
              "    }\n",
              "  </style>\n",
              "\n",
              "      <script>\n",
              "        const buttonEl =\n",
              "          document.querySelector('#df-3e39f3b6-0a76-4ce5-835c-0dac3092ee94 button.colab-df-convert');\n",
              "        buttonEl.style.display =\n",
              "          google.colab.kernel.accessAllowed ? 'block' : 'none';\n",
              "\n",
              "        async function convertToInteractive(key) {\n",
              "          const element = document.querySelector('#df-3e39f3b6-0a76-4ce5-835c-0dac3092ee94');\n",
              "          const dataTable =\n",
              "            await google.colab.kernel.invokeFunction('convertToInteractive',\n",
              "                                                     [key], {});\n",
              "          if (!dataTable) return;\n",
              "\n",
              "          const docLinkHtml = 'Like what you see? Visit the ' +\n",
              "            '<a target=\"_blank\" href=https://colab.research.google.com/notebooks/data_table.ipynb>data table notebook</a>'\n",
              "            + ' to learn more about interactive tables.';\n",
              "          element.innerHTML = '';\n",
              "          dataTable['output_type'] = 'display_data';\n",
              "          await google.colab.output.renderOutput(dataTable, element);\n",
              "          const docLink = document.createElement('div');\n",
              "          docLink.innerHTML = docLinkHtml;\n",
              "          element.appendChild(docLink);\n",
              "        }\n",
              "      </script>\n",
              "    </div>\n",
              "  </div>\n",
              "  "
            ]
          },
          "metadata": {},
          "execution_count": 49
        }
      ]
    },
    {
      "cell_type": "markdown",
      "metadata": {
        "id": "MZ0BWrcCqnLq"
      },
      "source": [
        "Check for NaN's remaining."
      ]
    },
    {
      "cell_type": "code",
      "metadata": {
        "colab": {
          "base_uri": "https://localhost:8080/"
        },
        "id": "1KPQzZ7U3k8H",
        "outputId": "13d2fc9e-54a7-40b2-ec12-812757e42432"
      },
      "source": [
        "print(\"Any nulls? \", df_test.isnull().values.any())"
      ],
      "execution_count": 50,
      "outputs": [
        {
          "output_type": "stream",
          "name": "stdout",
          "text": [
            "Any nulls?  False\n"
          ]
        }
      ]
    },
    {
      "cell_type": "markdown",
      "metadata": {
        "id": "yS8FX2X5qcEq"
      },
      "source": [
        "Now we need to convert the labels to integers."
      ]
    },
    {
      "cell_type": "code",
      "metadata": {
        "id": "alSYFMQ5yy97",
        "colab": {
          "base_uri": "https://localhost:8080/",
          "height": 206
        },
        "outputId": "937228f6-a501-4850-c0df-8afc2caed4a0"
      },
      "source": [
        "df_test[\"labels\"] = df_num.apply(lambda x: x[\"labels\"] if x[\"labels\"] == -1 else x[\"labels\"][2], axis=1)\n",
        "df_test.head(5)"
      ],
      "execution_count": 51,
      "outputs": [
        {
          "output_type": "execute_result",
          "data": {
            "text/plain": [
              "    s_num     word tag labels\n",
              "28      2       It   O      0\n",
              "29      2     very   O     -1\n",
              "30      2   slowly   O     -1\n",
              "31      2  absorbs   O     -1\n",
              "32      2        .   O     -1"
            ],
            "text/html": [
              "\n",
              "  <div id=\"df-dbc4fa49-2ba7-4287-bf5a-940887e9a4ad\">\n",
              "    <div class=\"colab-df-container\">\n",
              "      <div>\n",
              "<style scoped>\n",
              "    .dataframe tbody tr th:only-of-type {\n",
              "        vertical-align: middle;\n",
              "    }\n",
              "\n",
              "    .dataframe tbody tr th {\n",
              "        vertical-align: top;\n",
              "    }\n",
              "\n",
              "    .dataframe thead th {\n",
              "        text-align: right;\n",
              "    }\n",
              "</style>\n",
              "<table border=\"1\" class=\"dataframe\">\n",
              "  <thead>\n",
              "    <tr style=\"text-align: right;\">\n",
              "      <th></th>\n",
              "      <th>s_num</th>\n",
              "      <th>word</th>\n",
              "      <th>tag</th>\n",
              "      <th>labels</th>\n",
              "    </tr>\n",
              "  </thead>\n",
              "  <tbody>\n",
              "    <tr>\n",
              "      <th>28</th>\n",
              "      <td>2</td>\n",
              "      <td>It</td>\n",
              "      <td>O</td>\n",
              "      <td>0</td>\n",
              "    </tr>\n",
              "    <tr>\n",
              "      <th>29</th>\n",
              "      <td>2</td>\n",
              "      <td>very</td>\n",
              "      <td>O</td>\n",
              "      <td>-1</td>\n",
              "    </tr>\n",
              "    <tr>\n",
              "      <th>30</th>\n",
              "      <td>2</td>\n",
              "      <td>slowly</td>\n",
              "      <td>O</td>\n",
              "      <td>-1</td>\n",
              "    </tr>\n",
              "    <tr>\n",
              "      <th>31</th>\n",
              "      <td>2</td>\n",
              "      <td>absorbs</td>\n",
              "      <td>O</td>\n",
              "      <td>-1</td>\n",
              "    </tr>\n",
              "    <tr>\n",
              "      <th>32</th>\n",
              "      <td>2</td>\n",
              "      <td>.</td>\n",
              "      <td>O</td>\n",
              "      <td>-1</td>\n",
              "    </tr>\n",
              "  </tbody>\n",
              "</table>\n",
              "</div>\n",
              "      <button class=\"colab-df-convert\" onclick=\"convertToInteractive('df-dbc4fa49-2ba7-4287-bf5a-940887e9a4ad')\"\n",
              "              title=\"Convert this dataframe to an interactive table.\"\n",
              "              style=\"display:none;\">\n",
              "        \n",
              "  <svg xmlns=\"http://www.w3.org/2000/svg\" height=\"24px\"viewBox=\"0 0 24 24\"\n",
              "       width=\"24px\">\n",
              "    <path d=\"M0 0h24v24H0V0z\" fill=\"none\"/>\n",
              "    <path d=\"M18.56 5.44l.94 2.06.94-2.06 2.06-.94-2.06-.94-.94-2.06-.94 2.06-2.06.94zm-11 1L8.5 8.5l.94-2.06 2.06-.94-2.06-.94L8.5 2.5l-.94 2.06-2.06.94zm10 10l.94 2.06.94-2.06 2.06-.94-2.06-.94-.94-2.06-.94 2.06-2.06.94z\"/><path d=\"M17.41 7.96l-1.37-1.37c-.4-.4-.92-.59-1.43-.59-.52 0-1.04.2-1.43.59L10.3 9.45l-7.72 7.72c-.78.78-.78 2.05 0 2.83L4 21.41c.39.39.9.59 1.41.59.51 0 1.02-.2 1.41-.59l7.78-7.78 2.81-2.81c.8-.78.8-2.07 0-2.86zM5.41 20L4 18.59l7.72-7.72 1.47 1.35L5.41 20z\"/>\n",
              "  </svg>\n",
              "      </button>\n",
              "      \n",
              "  <style>\n",
              "    .colab-df-container {\n",
              "      display:flex;\n",
              "      flex-wrap:wrap;\n",
              "      gap: 12px;\n",
              "    }\n",
              "\n",
              "    .colab-df-convert {\n",
              "      background-color: #E8F0FE;\n",
              "      border: none;\n",
              "      border-radius: 50%;\n",
              "      cursor: pointer;\n",
              "      display: none;\n",
              "      fill: #1967D2;\n",
              "      height: 32px;\n",
              "      padding: 0 0 0 0;\n",
              "      width: 32px;\n",
              "    }\n",
              "\n",
              "    .colab-df-convert:hover {\n",
              "      background-color: #E2EBFA;\n",
              "      box-shadow: 0px 1px 2px rgba(60, 64, 67, 0.3), 0px 1px 3px 1px rgba(60, 64, 67, 0.15);\n",
              "      fill: #174EA6;\n",
              "    }\n",
              "\n",
              "    [theme=dark] .colab-df-convert {\n",
              "      background-color: #3B4455;\n",
              "      fill: #D2E3FC;\n",
              "    }\n",
              "\n",
              "    [theme=dark] .colab-df-convert:hover {\n",
              "      background-color: #434B5C;\n",
              "      box-shadow: 0px 1px 3px 1px rgba(0, 0, 0, 0.15);\n",
              "      filter: drop-shadow(0px 1px 2px rgba(0, 0, 0, 0.3));\n",
              "      fill: #FFFFFF;\n",
              "    }\n",
              "  </style>\n",
              "\n",
              "      <script>\n",
              "        const buttonEl =\n",
              "          document.querySelector('#df-dbc4fa49-2ba7-4287-bf5a-940887e9a4ad button.colab-df-convert');\n",
              "        buttonEl.style.display =\n",
              "          google.colab.kernel.accessAllowed ? 'block' : 'none';\n",
              "\n",
              "        async function convertToInteractive(key) {\n",
              "          const element = document.querySelector('#df-dbc4fa49-2ba7-4287-bf5a-940887e9a4ad');\n",
              "          const dataTable =\n",
              "            await google.colab.kernel.invokeFunction('convertToInteractive',\n",
              "                                                     [key], {});\n",
              "          if (!dataTable) return;\n",
              "\n",
              "          const docLinkHtml = 'Like what you see? Visit the ' +\n",
              "            '<a target=\"_blank\" href=https://colab.research.google.com/notebooks/data_table.ipynb>data table notebook</a>'\n",
              "            + ' to learn more about interactive tables.';\n",
              "          element.innerHTML = '';\n",
              "          dataTable['output_type'] = 'display_data';\n",
              "          await google.colab.output.renderOutput(dataTable, element);\n",
              "          const docLink = document.createElement('div');\n",
              "          docLink.innerHTML = docLinkHtml;\n",
              "          element.appendChild(docLink);\n",
              "        }\n",
              "      </script>\n",
              "    </div>\n",
              "  </div>\n",
              "  "
            ]
          },
          "metadata": {},
          "execution_count": 51
        }
      ]
    },
    {
      "cell_type": "markdown",
      "metadata": {
        "id": "wef76muXwDU8"
      },
      "source": [
        "This cell ensures that the s_num attribute is an integer, and it remoes the B and I prefixes from the tags. This was already done before the data was partitioned into training and testing, however, so they will be commented out."
      ]
    },
    {
      "cell_type": "code",
      "metadata": {
        "id": "lnuXaWBX3mln"
      },
      "source": [
        "# df_test[\"s_num\"] = df_test[\"s_num\"].astype(str).astype(int)\n",
        "# df_test[\"tag\"] = df_test.apply(lambda x: x[\"tag\"][2:] if x[\"tag\"][:2] in [\"B-\", \"I-\"] else x[\"tag\"], axis=1)"
      ],
      "execution_count": 52,
      "outputs": []
    },
    {
      "cell_type": "markdown",
      "metadata": {
        "id": "N_O4o-gHwTtC"
      },
      "source": [
        "Make sure that we have only one tag and that the rest or Os."
      ]
    },
    {
      "cell_type": "code",
      "metadata": {
        "id": "u9r_Q3F635k4"
      },
      "source": [
        "df_test[\"tag\"] = df_test.apply(lambda x: x[\"tag\"] if x[\"tag\"] in [\"AMOUNT-1-1\"] else \"O\", axis=1)"
      ],
      "execution_count": 53,
      "outputs": []
    },
    {
      "cell_type": "markdown",
      "metadata": {
        "id": "1ZjOslH_wY8a"
      },
      "source": [
        "Examine the labels to make sure this was successful."
      ]
    },
    {
      "cell_type": "code",
      "metadata": {
        "colab": {
          "base_uri": "https://localhost:8080/"
        },
        "id": "7sjxicrh3E9S",
        "outputId": "8e5547cb-e3fd-4312-a57e-1554e5922cc5"
      },
      "source": [
        "print(\"Unique labels:\")\n",
        "sorted(df_test.tag.unique())"
      ],
      "execution_count": 54,
      "outputs": [
        {
          "output_type": "stream",
          "name": "stdout",
          "text": [
            "Unique labels:\n"
          ]
        },
        {
          "output_type": "execute_result",
          "data": {
            "text/plain": [
              "['AMOUNT-1-1', 'O']"
            ]
          },
          "metadata": {},
          "execution_count": 54
        }
      ]
    },
    {
      "cell_type": "markdown",
      "metadata": {
        "id": "_gUZZOxvwxYN"
      },
      "source": [
        "### Test Set EDA"
      ]
    },
    {
      "cell_type": "markdown",
      "metadata": {
        "id": "8HzCZzzZweHg"
      },
      "source": [
        "Ensure that our types are correct and examine the test set."
      ]
    },
    {
      "cell_type": "code",
      "metadata": {
        "colab": {
          "base_uri": "https://localhost:8080/"
        },
        "id": "mLO12Cp34AHj",
        "outputId": "d134e3e7-6505-4488-e278-c70aa0964895"
      },
      "source": [
        "print(\"Shape:\", df_test.shape)\n",
        "print(df_test.info())"
      ],
      "execution_count": 55,
      "outputs": [
        {
          "output_type": "stream",
          "name": "stdout",
          "text": [
            "Shape: (610, 4)\n",
            "<class 'pandas.core.frame.DataFrame'>\n",
            "Int64Index: 610 entries, 28 to 2468\n",
            "Data columns (total 4 columns):\n",
            " #   Column  Non-Null Count  Dtype \n",
            "---  ------  --------------  ----- \n",
            " 0   s_num   610 non-null    int64 \n",
            " 1   word    610 non-null    object\n",
            " 2   tag     610 non-null    object\n",
            " 3   labels  610 non-null    object\n",
            "dtypes: int64(1), object(3)\n",
            "memory usage: 23.8+ KB\n",
            "None\n"
          ]
        }
      ]
    },
    {
      "cell_type": "markdown",
      "metadata": {
        "id": "9mDklBu6wi1s"
      },
      "source": [
        "Examine the test tag distribution."
      ]
    },
    {
      "cell_type": "code",
      "metadata": {
        "id": "_glnTnxqwaSv",
        "colab": {
          "base_uri": "https://localhost:8080/"
        },
        "outputId": "fc0d1e7e-fd82-4b6e-f1bf-798d0b25ed60"
      },
      "source": [
        "print(df_test.tag.value_counts()[:10])"
      ],
      "execution_count": 56,
      "outputs": [
        {
          "output_type": "stream",
          "name": "stdout",
          "text": [
            "O             519\n",
            "AMOUNT-1-1     91\n",
            "Name: tag, dtype: int64\n"
          ]
        }
      ]
    },
    {
      "cell_type": "markdown",
      "metadata": {
        "id": "BRM9QGG1wpu2"
      },
      "source": [
        "Examine the test sentence lengths."
      ]
    },
    {
      "cell_type": "code",
      "metadata": {
        "id": "c8JRa9kbwaSv",
        "colab": {
          "base_uri": "https://localhost:8080/"
        },
        "outputId": "9b43ca60-d4c5-499d-802b-fca1693966d2"
      },
      "source": [
        "print(df_test.s_num.value_counts()[:10])"
      ],
      "execution_count": 57,
      "outputs": [
        {
          "output_type": "stream",
          "name": "stdout",
          "text": [
            "4      38\n",
            "83     35\n",
            "136    32\n",
            "41     25\n",
            "20     22\n",
            "134    19\n",
            "45     19\n",
            "147    19\n",
            "126    18\n",
            "105    16\n",
            "Name: s_num, dtype: int64\n"
          ]
        }
      ]
    },
    {
      "cell_type": "markdown",
      "metadata": {
        "id": "hfY4rPecw-Ya"
      },
      "source": [
        "### Perform Testing"
      ]
    },
    {
      "cell_type": "markdown",
      "metadata": {
        "id": "B_-wCiZSw83A"
      },
      "source": [
        "This is used for debugging to see the breakdowns of tags for each instance (sentence) in the test set."
      ]
    },
    {
      "cell_type": "code",
      "metadata": {
        "id": "NzcPDwJe3l2E"
      },
      "source": [
        "y_pred = []\n",
        "y_true = []\n",
        "y_tokens = []\n",
        "test_pred = []\n",
        "\n",
        "for i in test:\n",
        "  first_sent_word = list(df_test[df_test[\"s_num\"] == i][\"word\"])\n",
        "  first_sent_label = [\"O\"] + list(df_test[df_test[\"s_num\"] == i][\"tag\"]) + [\"O\"]\n",
        "\n",
        "  test_sentence = \"\"\n",
        "  for val in first_sent_word:\n",
        "    test_sentence += val + ' '\n",
        "  # print(test_sentence) \n",
        "\n",
        "  test_tokenized_sentence = tokenizer.encode(test_sentence)\n",
        "  test_input_ids = torch.tensor([test_tokenized_sentence]).cuda()\n",
        "  with torch.no_grad():\n",
        "      output = model(test_input_ids)\n",
        "  test_label_indices = np.argmax(output[0].to('cpu').numpy(), axis=2)\n",
        "\n",
        "  test_tokens = tokenizer.convert_ids_to_tokens(test_input_ids.to('cpu').numpy()[0])\n",
        "\n",
        "  new_tokens, new_labels = [], []\n",
        "  for token, idx in zip(test_tokens, test_label_indices[0]):\n",
        "      if token.startswith(\"##\"):\n",
        "          new_tokens[-1] = new_tokens[-1] + token[2:]\n",
        "      else:\n",
        "          new_labels.append(tag_values[idx])\n",
        "          new_tokens.append(token)\n",
        "  # print(new_labels)\n",
        "  y_pred += new_labels\n",
        "  y_true += first_sent_label\n",
        "  y_tokens += new_tokens\n",
        "  test_pred.append(set(new_labels))"
      ],
      "execution_count": 58,
      "outputs": []
    },
    {
      "cell_type": "markdown",
      "metadata": {
        "id": "gMC4GDnnxNCc"
      },
      "source": [
        "### Test Set Tagging Evaluation"
      ]
    },
    {
      "cell_type": "markdown",
      "source": [
        "We first silence any instance of an ```UndefinedMetricWaring```, as they can become cumbersome."
      ],
      "metadata": {
        "id": "_ZvzACimQ_6L"
      }
    },
    {
      "cell_type": "code",
      "source": [
        "from sklearn.exceptions import UndefinedMetricWarning\n",
        "\n",
        "def warn(*args, **kwargs):\n",
        "    pass\n",
        "import warnings\n",
        "\n",
        "warnings.warn = warn"
      ],
      "metadata": {
        "id": "LswTLEQtRI5U"
      },
      "execution_count": 74,
      "outputs": []
    },
    {
      "cell_type": "markdown",
      "metadata": {
        "id": "u1sGJBbmxTvF"
      },
      "source": [
        "Examine the classification report from tagging."
      ]
    },
    {
      "cell_type": "code",
      "metadata": {
        "colab": {
          "base_uri": "https://localhost:8080/"
        },
        "id": "ZlH83ikF3p2A",
        "outputId": "924125e6-0b19-4337-b26a-dafa85c4dc87"
      },
      "source": [
        "report = classification_report(y_true, y_pred, output_dict=True) # True to save in CSV\n",
        "report = {k: v for k, v in report.items() if k != \"PAD\"}\n",
        "\n",
        "for k, v in report.items():\n",
        "  if k != \"accuracy\":\n",
        "    v_round = {kr: round(vr,2) for kr, vr in v.items()}\n",
        "    report[k] = v_round\n",
        "\n",
        "acc = 0\n",
        "\n",
        "for k, v in report.items():\n",
        "  if k == \"O\":\n",
        "    print(k,\"\\t\\t\\t\", v)\n",
        "  elif k == \"accuracy\":\n",
        "    acc = report[k]\n",
        "  else:\n",
        "    print(k,\"\\t\\t\", v)\n",
        "\n",
        "print(\"accuracy\\t\\t\",acc)"
      ],
      "execution_count": 85,
      "outputs": [
        {
          "output_type": "stream",
          "name": "stdout",
          "text": [
            "AMOUNT-1-1 \t\t {'precision': 0.97, 'recall': 0.4, 'f1-score': 0.56, 'support': 91}\n",
            "O \t\t\t {'precision': 0.93, 'recall': 0.87, 'f1-score': 0.9, 'support': 613}\n",
            "macro avg \t\t {'precision': 0.63, 'recall': 0.42, 'f1-score': 0.49, 'support': 704}\n",
            "weighted avg \t\t {'precision': 0.94, 'recall': 0.81, 'f1-score': 0.85, 'support': 704}\n",
            "accuracy\t\t 0.8068181818181818\n"
          ]
        }
      ]
    },
    {
      "cell_type": "markdown",
      "metadata": {
        "id": "V6dq71WkxtIR"
      },
      "source": [
        "Examine an individual instance to see what was tagged and how."
      ]
    },
    {
      "cell_type": "code",
      "metadata": {
        "id": "_zSA4YiR4LeA",
        "colab": {
          "base_uri": "https://localhost:8080/"
        },
        "outputId": "39a64e34-161e-4141-a1b7-b690fdc88769"
      },
      "source": [
        "n = test[0]\n",
        "first_sent_word = list(df_test[df_test[\"s_num\"] == n][\"word\"])\n",
        "first_sent_label = [\"O\"] + list(df_test[df_test[\"s_num\"] == n][\"tag\"])\n",
        "test_sentence = \"\"\n",
        "for val in first_sent_word:\n",
        "  test_sentence += val + ' '\n",
        "print(\"Sentence:\",test_sentence,\"\\n\") \n",
        "\n",
        "test_tokenized_sentence = tokenizer.encode(test_sentence)\n",
        "test_input_ids = torch.tensor([test_tokenized_sentence]).cuda()\n",
        "with torch.no_grad():\n",
        "    output = model(test_input_ids)\n",
        "test_label_indices = np.argmax(output[0].to('cpu').numpy(), axis=2)\n",
        "\n",
        "test_tokens = tokenizer.convert_ids_to_tokens(test_input_ids.to('cpu').numpy()[0])\n",
        "\n",
        "new_tokens, new_labels = [], []\n",
        "for token, idx in zip(test_tokens, test_label_indices[0]):\n",
        "    if token.startswith(\"##\"):\n",
        "        new_tokens[-1] = new_tokens[-1] + token[2:]\n",
        "    else:\n",
        "        new_labels.append(tag_values[idx])\n",
        "        new_tokens.append(token)\n",
        "print(\"Pred\\t\\tWord\\t\\tTrue\\n\")\n",
        "for token, label, old in zip(new_tokens[1:], new_labels[1:], first_sent_label[1:]):\n",
        "    print(\"{}\\t{}\\t{}\".format(label if label != \"O\" else label+\"\\t\", \\\n",
        "                              token+\"\\t\" if len(token) < 8 else token, \\\n",
        "                              old))"
      ],
      "execution_count": 86,
      "outputs": [
        {
          "output_type": "stream",
          "name": "stdout",
          "text": [
            "Sentence: It could mean how much water is going to places , or show how much it happens different  \n",
            "\n",
            "Pred\t\tWord\t\tTrue\n",
            "\n",
            "O\t\tIt\t\tO\n",
            "O\t\tcould\t\tO\n",
            "O\t\tmean\t\tO\n",
            "O\t\thow\t\tAMOUNT-1-1\n",
            "AMOUNT-1-1\tmuch\t\tAMOUNT-1-1\n",
            "O\t\twater\t\tAMOUNT-1-1\n",
            "O\t\tis\t\tO\n",
            "O\t\tgoing\t\tO\n",
            "O\t\tto\t\tO\n",
            "O\t\tplaces\t\tO\n",
            "O\t\t,\t\tO\n",
            "O\t\tor\t\tO\n",
            "O\t\tshow\t\tO\n",
            "O\t\thow\t\tO\n",
            "O\t\tmuch\t\tO\n",
            "O\t\tit\t\tO\n",
            "O\t\thappens\t\tO\n",
            "O\t\tdifferent\tO\n"
          ]
        }
      ]
    },
    {
      "cell_type": "markdown",
      "metadata": {
        "id": "HtMhkc6rf7Nd"
      },
      "source": [
        "This next cell an be used for debugging to examine specific instances and their tags."
      ]
    },
    {
      "cell_type": "code",
      "metadata": {
        "id": "TeCxEvlIf6fE"
      },
      "source": [
        "# df_test[df_test['s_num'] == test[-2]].head(5)"
      ],
      "execution_count": 61,
      "outputs": []
    },
    {
      "cell_type": "markdown",
      "metadata": {
        "id": "VQYtjbNzyPQ1"
      },
      "source": [
        "### Sentence Classification"
      ]
    },
    {
      "cell_type": "markdown",
      "metadata": {
        "id": "930R2lJzzG6U"
      },
      "source": [
        "The sentence classification is based on whether or not a sigle occurrence of a tag was detected anywhere in the sentence. If there is a predicted ```AMOUNT-1-1``` tag, then the sentence will be predicted as belonging to the class that correctly answered the question."
      ]
    },
    {
      "cell_type": "markdown",
      "metadata": {
        "id": "h-hhSiqhyR-Y"
      },
      "source": [
        "Separate labels/sentences by individual sentences.\n"
      ]
    },
    {
      "cell_type": "code",
      "metadata": {
        "id": "z6aDonal5HdS",
        "colab": {
          "base_uri": "https://localhost:8080/"
        },
        "outputId": "afae3dae-b4f2-435c-8867-2d8120f4d8d6"
      },
      "source": [
        "test_sents = []\n",
        "test_labels = []\n",
        "\n",
        "for n in test:\n",
        "        \n",
        "  label = list(df_test[df_test[\"s_num\"] == n][\"labels\"])[0]\n",
        "  test_labels.append(label)\n",
        "  words = list(df_test[df_test[\"s_num\"] == n][\"word\"])\n",
        "  sentence = \"\"\n",
        "  for val in words:\n",
        "    sentence += val + ' '\n",
        "  test_sents.append(sentence)\n",
        "\n",
        "print(len(test_sents), len(test_labels))"
      ],
      "execution_count": 62,
      "outputs": [
        {
          "output_type": "stream",
          "name": "stdout",
          "text": [
            "47 47\n"
          ]
        }
      ]
    },
    {
      "cell_type": "markdown",
      "metadata": {
        "id": "XPOB659wyXEp"
      },
      "source": [
        "Get the preicted class based on whether or not a label was present."
      ]
    },
    {
      "cell_type": "code",
      "metadata": {
        "id": "jznF_yIpDXHH",
        "colab": {
          "base_uri": "https://localhost:8080/"
        },
        "outputId": "ea9e918e-3cfb-47cb-8a4a-b43f15ba687a"
      },
      "source": [
        "test_pred_n = [1 if \"AMOUNT-1-1\" in test_pred[i] else 0 for i in range(len(test_pred))]\n",
        "test_pred_n[:5]"
      ],
      "execution_count": 63,
      "outputs": [
        {
          "output_type": "execute_result",
          "data": {
            "text/plain": [
              "[1, 0, 1, 1, 0]"
            ]
          },
          "metadata": {},
          "execution_count": 63
        }
      ]
    },
    {
      "cell_type": "markdown",
      "metadata": {
        "id": "L6opJfXKym6P"
      },
      "source": [
        "Get the true test labels."
      ]
    },
    {
      "cell_type": "code",
      "metadata": {
        "id": "xDCs0yQkHVDT",
        "colab": {
          "base_uri": "https://localhost:8080/"
        },
        "outputId": "858bd40a-ee80-4726-cf0c-3bb3183c4dbb"
      },
      "source": [
        "test_labels = [int(n) for n in test_labels]\n",
        "test_labels[:5]"
      ],
      "execution_count": 64,
      "outputs": [
        {
          "output_type": "execute_result",
          "data": {
            "text/plain": [
              "[1, 0, 1, 1, 0]"
            ]
          },
          "metadata": {},
          "execution_count": 64
        }
      ]
    },
    {
      "cell_type": "markdown",
      "metadata": {
        "id": "V2NeBN8azb0p"
      },
      "source": [
        "### Sentence Classification Evaluation"
      ]
    },
    {
      "cell_type": "markdown",
      "metadata": {
        "id": "9BFuRTCzyrW-"
      },
      "source": [
        "Get the classification report for sentence prediction."
      ]
    },
    {
      "cell_type": "code",
      "metadata": {
        "id": "ZmUbdCn7yzJZ",
        "colab": {
          "base_uri": "https://localhost:8080/"
        },
        "outputId": "cec10ee1-5823-4480-ea02-82ae310f0b0a"
      },
      "source": [
        "report = classification_report(test_labels, test_pred_n, output_dict=False) # True to save in CSV\n",
        "print(report)"
      ],
      "execution_count": 65,
      "outputs": [
        {
          "output_type": "stream",
          "name": "stdout",
          "text": [
            "              precision    recall  f1-score   support\n",
            "\n",
            "           0       0.93      0.96      0.94        26\n",
            "           1       0.95      0.90      0.93        21\n",
            "\n",
            "    accuracy                           0.94        47\n",
            "   macro avg       0.94      0.93      0.94        47\n",
            "weighted avg       0.94      0.94      0.94        47\n",
            "\n"
          ]
        }
      ]
    },
    {
      "cell_type": "markdown",
      "metadata": {
        "id": "Sv5HHCSYyxQj"
      },
      "source": [
        "Examine sentence classification confusion matrix."
      ]
    },
    {
      "cell_type": "code",
      "metadata": {
        "id": "1klLF_pVZX82",
        "colab": {
          "base_uri": "https://localhost:8080/",
          "height": 410
        },
        "outputId": "95191158-cd4d-4bfe-fbd0-7f75007a9cae"
      },
      "source": [
        "cf_matrix = confusion_matrix(test_labels, test_pred_n)\n",
        "group_names = [\"True Neg\",\"False Pos\",\"False Neg\",\"True Pos\"]\n",
        "group_counts = [\"{0:0.0f}\".format(value) for value in cf_matrix.flatten()]\n",
        "group_percentages = [\"{0:.2%}\".format(value) for value in cf_matrix.flatten()/np.sum(cf_matrix)]\n",
        "t_labels = [f\"{v1}\\n{v2}\\n{v3}\" for v1, v2, v3 in zip(group_names,group_counts,group_percentages)]\n",
        "t_labels = np.asarray(t_labels).reshape(2,2)\n",
        "sns.heatmap(cf_matrix, annot=t_labels, fmt='', cmap='Blues')"
      ],
      "execution_count": 66,
      "outputs": [
        {
          "output_type": "execute_result",
          "data": {
            "text/plain": [
              "<matplotlib.axes._subplots.AxesSubplot at 0x7fd31053ba10>"
            ]
          },
          "metadata": {},
          "execution_count": 66
        },
        {
          "output_type": "display_data",
          "data": {
            "text/plain": [
              "<Figure size 864x432 with 2 Axes>"
            ],
            "image/png": "[encoded data removed]"
          },
          "metadata": {}
        }
      ]
    }
  ]
}